{
 "cells": [
  {
   "cell_type": "code",
   "execution_count": 40,
   "metadata": {},
   "outputs": [],
   "source": [
    "from __future__ import annotations\n",
    "import matplotlib.pyplot as plt\n",
    "import torch\n",
    "import torch.nn.functional as F\n",
    "\n",
    "%matplotlib inline"
   ]
  },
  {
   "cell_type": "code",
   "execution_count": 41,
   "metadata": {},
   "outputs": [],
   "source": [
    "words: list[str] = open(\"names.txt\", \"r\").read().splitlines()"
   ]
  },
  {
   "cell_type": "code",
   "execution_count": 42,
   "metadata": {},
   "outputs": [],
   "source": [
    "# Gets all the characters, a-z\n",
    "chars: list[str] = sorted(list(set(\"\".join(words))))\n",
    "\n",
    "# Maps each character to an integer\n",
    "stoi: dict[str, int] = {s: i + 1 for i, s in enumerate(chars)}\n",
    "stoi[\".\"] = 0\n",
    "\n",
    "# Maps each integer to a character\n",
    "itos: dict[int, str] = {i: s for s, i in stoi.items()}"
   ]
  },
  {
   "cell_type": "code",
   "execution_count": 43,
   "metadata": {},
   "outputs": [
    {
     "name": "stdout",
     "output_type": "stream",
     "text": [
      "number of examples:  195983\n"
     ]
    }
   ],
   "source": [
    "# Training set of trigrams (x, y, z)\n",
    "xs, ys, zs = [], [], []\n",
    "\n",
    "for w in words:\n",
    "    if len(w) < 3:\n",
    "        continue\n",
    "    chs = [\".\"] + list(w) + [\".\"]\n",
    "    for ch1, ch2, ch3 in zip(chs, chs[1:], chs[2:]):\n",
    "        ix1 = stoi[ch1]\n",
    "        ix2 = stoi[ch2]\n",
    "        ix3 = stoi[ch3]\n",
    "        xs.append(ix1)\n",
    "        ys.append(ix2)\n",
    "        zs.append(ix3)\n",
    "\n",
    "xs = torch.tensor(xs)\n",
    "ys = torch.tensor(ys)\n",
    "zs = torch.tensor(zs)\n",
    "num = xs.nelement()\n",
    "print('number of examples: ', num)"
   ]
  },
  {
   "cell_type": "code",
   "execution_count": 44,
   "metadata": {},
   "outputs": [],
   "source": [
    "# Weights\n",
    "W = torch.randn((27, 27), requires_grad=True)"
   ]
  },
  {
   "cell_type": "code",
   "execution_count": 45,
   "metadata": {},
   "outputs": [
    {
     "name": "stdout",
     "output_type": "stream",
     "text": [
      "7.596063137054443\n",
      "6.584152698516846\n",
      "6.289413928985596\n",
      "5.982585430145264\n",
      "5.933457374572754\n",
      "5.7625732421875\n",
      "5.7820940017700195\n",
      "5.676336765289307\n",
      "5.7417073249816895\n",
      "5.602336406707764\n",
      "5.63689661026001\n",
      "5.602008819580078\n",
      "5.718888759613037\n",
      "5.5240254402160645\n",
      "5.515870571136475\n",
      "5.518462181091309\n",
      "5.5594401359558105\n",
      "5.550570011138916\n",
      "5.684530735015869\n",
      "5.479833126068115\n",
      "5.473168849945068\n",
      "5.468958854675293\n",
      "5.465601921081543\n",
      "5.464122772216797\n",
      "5.470057964324951\n",
      "5.489652156829834\n",
      "5.581336498260498\n",
      "5.47454309463501\n",
      "5.539151191711426\n",
      "5.492151260375977\n",
      "5.605845928192139\n",
      "5.449794292449951\n",
      "5.469024658203125\n",
      "5.495965957641602\n",
      "5.630456447601318\n",
      "5.437384128570557\n",
      "5.435172080993652\n",
      "5.438477993011475\n",
      "5.457881927490234\n",
      "5.486152172088623\n",
      "5.618582248687744\n",
      "5.430708408355713\n",
      "5.430464744567871\n",
      "5.438803195953369\n",
      "5.478694915771484\n",
      "5.489065170288086\n",
      "5.633249759674072\n",
      "5.425116539001465\n",
      "5.4227142333984375\n",
      "5.423880577087402\n",
      "5.4298858642578125\n",
      "5.458856105804443\n",
      "5.483203887939453\n",
      "5.626572132110596\n",
      "5.4208807945251465\n",
      "5.418306827545166\n",
      "5.418371200561523\n",
      "5.420239448547363\n",
      "5.430177688598633\n",
      "5.453978538513184\n",
      "5.55464506149292\n",
      "5.4350457191467285\n",
      "5.487934112548828\n",
      "5.472561359405518\n",
      "5.606594562530518\n",
      "5.416598320007324\n",
      "5.416128158569336\n",
      "5.4219841957092285\n",
      "5.449215888977051\n",
      "5.475463390350342\n",
      "5.617695331573486\n",
      "5.414650917053223\n",
      "5.412203788757324\n",
      "5.411932468414307\n",
      "5.4118571281433105\n",
      "5.41235876083374\n",
      "5.4148993492126465\n",
      "5.426979064941406\n",
      "5.453102111816406\n",
      "5.562923908233643\n",
      "5.423562049865723\n",
      "5.458079814910889\n",
      "5.474670886993408\n",
      "5.619633674621582\n",
      "5.412144660949707\n",
      "5.410149097442627\n",
      "5.411685943603516\n",
      "5.417770862579346\n",
      "5.445474624633789\n",
      "5.471677303314209\n",
      "5.614405155181885\n",
      "5.410921573638916\n",
      "5.408599376678467\n",
      "5.408504009246826\n",
      "5.408789157867432\n",
      "5.410488605499268\n",
      "5.416787624359131\n",
      "5.445226192474365\n",
      "5.470993995666504\n",
      "5.6143879890441895\n"
     ]
    }
   ],
   "source": [
    "# Gradient descent\n",
    "for k in range(100):\n",
    "    # Forward pass\n",
    "    xenc = F.one_hot(xs, num_classes=27).float() # Neural net input: one-hot encoding\n",
    "    logits = xenc @ W # Predict log-counts\n",
    "    counts = logits.exp() # Counts, equivalent to N\n",
    "    probs = counts / counts.sum(dim=1, keepdim=True) # Probabilities for next character\n",
    "    # Negative log likelihood   \n",
    "    loss = -probs[range(len(ys)), ys].log().mean() - probs[range(len(zs)), zs].log().mean() + 0.01*(W**2).mean() # Regularization\n",
    "    print(loss.item())\n",
    "\n",
    "    # Backward pass\n",
    "    W.grad = None\n",
    "    loss.backward()\n",
    "\n",
    "    # Update\n",
    "    W.data += -50 * W.grad"
   ]
  },
  {
   "cell_type": "code",
   "execution_count": 46,
   "metadata": {},
   "outputs": [
    {
     "name": "stdout",
     "output_type": "stream",
     "text": [
      "te\n",
      "aerinriselngema\n",
      "dyanloelna\n",
      "asisilalaryzavir\n",
      "rzivralnaeidi\n",
      "cezarabdeboioeneekiaenavahlsanayn\n",
      "kaihiphasnuhalna\n",
      "avise\n",
      "amcoi\n",
      "ileihrl\n"
     ]
    }
   ],
   "source": [
    "# Generate a word based from the neural network\n",
    "for i in range(10):\n",
    "    ix = 0\n",
    "    word = \"\"\n",
    "    while True:\n",
    "        xenc = F.one_hot(torch.tensor([ix]), num_classes=27).float()\n",
    "        logits = xenc @ W\n",
    "        counts = logits.exp()\n",
    "        p = counts / counts.sum(1, keepdim=True)\n",
    "        \n",
    "        ix = torch.multinomial(p, num_samples=1, replacement=True).item()\n",
    "        if ix == 0:\n",
    "            break\n",
    "\n",
    "        word += itos[ix]\n",
    "\n",
    "    print(word)"
   ]
  }
 ],
 "metadata": {
  "kernelspec": {
   "display_name": "Python 3",
   "language": "python",
   "name": "python3"
  },
  "language_info": {
   "codemirror_mode": {
    "name": "ipython",
    "version": 3
   },
   "file_extension": ".py",
   "mimetype": "text/x-python",
   "name": "python",
   "nbconvert_exporter": "python",
   "pygments_lexer": "ipython3",
   "version": "3.11.7"
  }
 },
 "nbformat": 4,
 "nbformat_minor": 2
}
