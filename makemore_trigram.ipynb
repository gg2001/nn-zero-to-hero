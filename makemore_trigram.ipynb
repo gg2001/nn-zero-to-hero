{
 "cells": [
  {
   "cell_type": "code",
   "execution_count": 22,
   "metadata": {},
   "outputs": [],
   "source": [
    "from __future__ import annotations\n",
    "import random\n",
    "import torch\n",
    "import torch.nn.functional as F\n",
    "\n",
    "%matplotlib inline"
   ]
  },
  {
   "cell_type": "code",
   "execution_count": 23,
   "metadata": {},
   "outputs": [],
   "source": [
    "words: list[str] = open(\"names.txt\", \"r\").read().splitlines()"
   ]
  },
  {
   "cell_type": "code",
   "execution_count": 24,
   "metadata": {},
   "outputs": [],
   "source": [
    "# Gets all the characters, a-z\n",
    "chars: list[str] = sorted(list(set(\"\".join(words))))\n",
    "\n",
    "# Maps each character to an integer\n",
    "stoi: dict[str, int] = {s: i + 1 for i, s in enumerate(chars)}\n",
    "stoi[\".\"] = 0\n",
    "\n",
    "# Maps each integer to a character\n",
    "itos: dict[int, str] = {i: s for s, i in stoi.items()}"
   ]
  },
  {
   "cell_type": "code",
   "execution_count": 25,
   "metadata": {},
   "outputs": [
    {
     "name": "stdout",
     "output_type": "stream",
     "text": [
      "number of examples:  391966\n"
     ]
    }
   ],
   "source": [
    "# Training set of trigrams (x, y, z)\n",
    "xs, ys = [], []\n",
    "\n",
    "for w in words:\n",
    "    if len(w) < 3:\n",
    "        continue\n",
    "    chs = [\".\"] + list(w) + [\".\"]\n",
    "    for ch1, ch2, ch3 in zip(chs, chs[1:], chs[2:]):\n",
    "        ix1 = stoi[ch1]\n",
    "        ix2 = stoi[ch2]\n",
    "        ix3 = stoi[ch3]\n",
    "        xs.append([ix1, ix2])\n",
    "        ys.append(ix3)\n",
    "\n",
    "xs = torch.tensor(xs)\n",
    "ys = torch.tensor(ys)\n",
    "num = xs.nelement()\n",
    "print('number of examples: ', num)"
   ]
  },
  {
   "cell_type": "code",
   "execution_count": 26,
   "metadata": {},
   "outputs": [],
   "source": [
    "# Weights\n",
    "W = torch.randn((27*2, 27), requires_grad=True)"
   ]
  },
  {
   "cell_type": "code",
   "execution_count": 27,
   "metadata": {},
   "outputs": [
    {
     "name": "stdout",
     "output_type": "stream",
     "text": [
      "4.420506000518799\n",
      "3.5385472774505615\n",
      "3.1578071117401123\n",
      "2.9506165981292725\n",
      "2.820193290710449\n",
      "2.729976177215576\n",
      "2.6633028984069824\n",
      "2.612173557281494\n",
      "2.571805238723755\n",
      "2.539106845855713\n",
      "2.5120575428009033\n",
      "2.489321231842041\n",
      "2.469984292984009\n",
      "2.453383684158325\n",
      "2.4390153884887695\n",
      "2.426478624343872\n",
      "2.4154534339904785\n",
      "2.4056825637817383\n",
      "2.3969597816467285\n",
      "2.389120578765869\n",
      "2.3820321559906006\n",
      "2.37558650970459\n",
      "2.369697332382202\n",
      "2.364292860031128\n",
      "2.359313726425171\n",
      "2.3547098636627197\n",
      "2.3504397869110107\n",
      "2.346468687057495\n",
      "2.3427658081054688\n",
      "2.3393051624298096\n",
      "2.3360636234283447\n",
      "2.333021879196167\n",
      "2.330162286758423\n",
      "2.3274691104888916\n",
      "2.3249289989471436\n",
      "2.3225302696228027\n",
      "2.320261001586914\n",
      "2.3181116580963135\n",
      "2.316073179244995\n",
      "2.3141379356384277\n",
      "2.3122987747192383\n",
      "2.3105485439300537\n",
      "2.3088815212249756\n",
      "2.3072917461395264\n",
      "2.3057749271392822\n",
      "2.3043253421783447\n",
      "2.3029394149780273\n",
      "2.3016128540039062\n",
      "2.3003427982330322\n",
      "2.2991247177124023\n",
      "2.2979562282562256\n",
      "2.2968344688415527\n",
      "2.2957568168640137\n",
      "2.2947206497192383\n",
      "2.2937233448028564\n",
      "2.2927632331848145\n",
      "2.2918381690979004\n",
      "2.2909464836120605\n",
      "2.290086507797241\n",
      "2.2892563343048096\n",
      "2.2884552478790283\n",
      "2.2876808643341064\n",
      "2.2869324684143066\n",
      "2.286208391189575\n",
      "2.285507917404175\n",
      "2.284829616546631\n",
      "2.2841734886169434\n",
      "2.283536911010742\n",
      "2.2829208374023438\n",
      "2.282322883605957\n",
      "2.281743049621582\n",
      "2.2811803817749023\n",
      "2.2806341648101807\n",
      "2.280104160308838\n",
      "2.2795891761779785\n",
      "2.2790887355804443\n",
      "2.278602123260498\n",
      "2.2781291007995605\n",
      "2.2776691913604736\n",
      "2.277222156524658\n",
      "2.2767865657806396\n",
      "2.276362657546997\n",
      "2.2759501934051514\n",
      "2.2755486965179443\n",
      "2.2751569747924805\n",
      "2.274775505065918\n",
      "2.2744038105010986\n",
      "2.2740414142608643\n",
      "2.2736878395080566\n",
      "2.2733428478240967\n",
      "2.2730071544647217\n",
      "2.272678852081299\n",
      "2.2723588943481445\n",
      "2.272045850753784\n",
      "2.271740674972534\n",
      "2.271442413330078\n",
      "2.271151304244995\n",
      "2.270866632461548\n",
      "2.2705883979797363\n",
      "2.2703166007995605\n"
     ]
    }
   ],
   "source": [
    "# Gradient descent\n",
    "for k in range(100):\n",
    "    # Forward pass\n",
    "    xenc = F.one_hot(xs, num_classes=27).float() # Neural net input: one-hot encoding\n",
    "    logits = xenc.view(-1, 27*2) @ W # Predict log-counts\n",
    "    counts = logits.exp() # Counts, equivalent to N\n",
    "    probs = counts / counts.sum(dim=1, keepdim=True) # Probabilities for next character\n",
    "    # Negative log likelihood  \n",
    "    loss = -probs[torch.arange(ys.shape[0]), ys].log().mean() + 0.01*(W**2).mean() # Regularization\n",
    "    print(loss.item())\n",
    "\n",
    "    # Backward pass\n",
    "    W.grad = None\n",
    "    loss.backward()\n",
    "\n",
    "    # Update\n",
    "    W.data += -50 * W.grad"
   ]
  },
  {
   "cell_type": "code",
   "execution_count": 28,
   "metadata": {},
   "outputs": [
    {
     "name": "stdout",
     "output_type": "stream",
     "text": [
      "uiiea\n",
      "vde\n",
      "fnrprsnxprcbctawn\n",
      "aeiaaiiaaiajeoeeiaiaraieiaobiawxliii\n",
      "a\n",
      "aya\n",
      "lnvnanas\n",
      "osmiq\n",
      "uuuhnxxxsiyun\n",
      "ami\n"
     ]
    }
   ],
   "source": [
    "# Generate a word based from the neural network\n",
    "for i in range(10):\n",
    "    ix = 0\n",
    "    iy = random.randint(1, 26)\n",
    "    word = \"\"\n",
    "    while True:\n",
    "        xenc = F.one_hot(torch.tensor([ix, iy]), num_classes=27).float()\n",
    "        logits = xenc.view(-1, 27*2) @ W\n",
    "        counts = logits.exp()\n",
    "        p = counts / counts.sum(1, keepdim=True)\n",
    "        \n",
    "        ix = torch.multinomial(p, num_samples=1, replacement=True).item()\n",
    "        if ix == 0:\n",
    "            break\n",
    "\n",
    "        word += itos[ix]\n",
    "\n",
    "    print(word)"
   ]
  }
 ],
 "metadata": {
  "kernelspec": {
   "display_name": "Python 3",
   "language": "python",
   "name": "python3"
  },
  "language_info": {
   "codemirror_mode": {
    "name": "ipython",
    "version": 3
   },
   "file_extension": ".py",
   "mimetype": "text/x-python",
   "name": "python",
   "nbconvert_exporter": "python",
   "pygments_lexer": "ipython3",
   "version": "3.11.7"
  }
 },
 "nbformat": 4,
 "nbformat_minor": 2
}
