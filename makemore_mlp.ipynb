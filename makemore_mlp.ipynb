{
 "cells": [
  {
   "cell_type": "code",
   "execution_count": 1,
   "metadata": {},
   "outputs": [],
   "source": [
    "from __future__ import annotations\n",
    "import torch\n",
    "import torch.nn.functional as F\n",
    "import matplotlib.pyplot as plt\n",
    "import random\n",
    "from makemore import MLP, load_words\n",
    "\n",
    "%matplotlib inline"
   ]
  },
  {
   "cell_type": "code",
   "execution_count": 2,
   "metadata": {},
   "outputs": [],
   "source": [
    "words: list[str] = open(\"names.txt\", \"r\").read().splitlines()"
   ]
  },
  {
   "cell_type": "code",
   "execution_count": 3,
   "metadata": {},
   "outputs": [],
   "source": [
    "# Gets all the characters, a-z\n",
    "chars: list[str] = sorted(list(set(\"\".join(words))))\n",
    "\n",
    "# Maps each character to an integer\n",
    "stoi: dict[str, int] = {s: i + 1 for i, s in enumerate(chars)}\n",
    "stoi[\".\"] = 0\n",
    "\n",
    "# Maps each integer to a character\n",
    "itos: dict[int, str] = {i: s for s, i in stoi.items()}"
   ]
  },
  {
   "cell_type": "code",
   "execution_count": 4,
   "metadata": {},
   "outputs": [],
   "source": [
    "block_size = 3  # Context length: number of characters taken to predict the next one\n",
    "\n",
    "\n",
    "# Build dataset\n",
    "def build_dataset(\n",
    "    words: list[str], print_examples: int = 0\n",
    ") -> tuple[torch.Tensor, torch.Tensor]:\n",
    "    X, Y = [], []\n",
    "    for i, w in enumerate(words):\n",
    "        context = [0] * block_size\n",
    "        for ch in w + \".\":\n",
    "            ix = stoi[ch]\n",
    "            X.append(context)\n",
    "            Y.append(ix)\n",
    "            if i < print_examples:\n",
    "                print(\"\".join(itos[i] for i in context), \"---->\", itos[ix])\n",
    "            context = context[1:] + [ix]\n",
    "\n",
    "    return torch.tensor(X), torch.tensor(Y)"
   ]
  },
  {
   "cell_type": "code",
   "execution_count": 5,
   "metadata": {},
   "outputs": [
    {
     "name": "stdout",
     "output_type": "stream",
     "text": [
      "... ----> e\n",
      "..e ----> m\n",
      ".em ----> m\n",
      "emm ----> a\n",
      "mma ----> .\n",
      "... ----> o\n",
      "..o ----> l\n",
      ".ol ----> i\n",
      "oli ----> v\n",
      "liv ----> i\n",
      "ivi ----> a\n",
      "via ----> .\n",
      "... ----> a\n",
      "..a ----> v\n",
      ".av ----> a\n",
      "ava ----> .\n",
      "... ----> i\n",
      "..i ----> s\n",
      ".is ----> a\n",
      "isa ----> b\n",
      "sab ----> e\n",
      "abe ----> l\n",
      "bel ----> l\n",
      "ell ----> a\n",
      "lla ----> .\n",
      "... ----> s\n",
      "..s ----> o\n",
      ".so ----> p\n",
      "sop ----> h\n",
      "oph ----> i\n",
      "phi ----> a\n",
      "hia ----> .\n"
     ]
    }
   ],
   "source": [
    "X, Y = build_dataset(words, 5)"
   ]
  },
  {
   "cell_type": "code",
   "execution_count": 6,
   "metadata": {},
   "outputs": [
    {
     "data": {
      "text/plain": [
       "(torch.Size([228146, 3]), torch.Size([228146]), torch.int64, torch.int64)"
      ]
     },
     "execution_count": 6,
     "metadata": {},
     "output_type": "execute_result"
    }
   ],
   "source": [
    "X.shape, Y.shape, X.dtype, Y.dtype"
   ]
  },
  {
   "cell_type": "markdown",
   "metadata": {},
   "source": [
    "## MLP (Multilayer Perceptron)\n",
    "\n",
    "![mlp](https://miro.medium.com/v2/resize:fit:1200/1*EqKiy4-6tuLSoPP_kub33Q.png)\n"
   ]
  },
  {
   "cell_type": "code",
   "execution_count": 7,
   "metadata": {},
   "outputs": [],
   "source": [
    "# Embedding lookup table\n",
    "C = torch.randn((27, 2))"
   ]
  },
  {
   "cell_type": "code",
   "execution_count": 8,
   "metadata": {},
   "outputs": [],
   "source": [
    "# Parameters\n",
    "W1 = torch.randn((6, 100))\n",
    "b1 = torch.randn(100)"
   ]
  },
  {
   "cell_type": "code",
   "execution_count": 9,
   "metadata": {},
   "outputs": [],
   "source": [
    "W2 = torch.randn((100, 27))\n",
    "b2 = torch.randn(27)"
   ]
  },
  {
   "cell_type": "code",
   "execution_count": 10,
   "metadata": {},
   "outputs": [
    {
     "data": {
      "text/plain": [
       "3481"
      ]
     },
     "execution_count": 10,
     "metadata": {},
     "output_type": "execute_result"
    }
   ],
   "source": [
    "parameters = [C, W1, b1, W2, b2]\n",
    "sum(p.nelement() for p in parameters)  # Number of parameters in total"
   ]
  },
  {
   "cell_type": "code",
   "execution_count": 11,
   "metadata": {},
   "outputs": [
    {
     "data": {
      "text/plain": [
       "torch.Size([228146, 3, 2])"
      ]
     },
     "execution_count": 11,
     "metadata": {},
     "output_type": "execute_result"
    }
   ],
   "source": [
    "# Forward pass\n",
    "emb = C[X]\n",
    "emb.shape"
   ]
  },
  {
   "cell_type": "code",
   "execution_count": 12,
   "metadata": {},
   "outputs": [
    {
     "data": {
      "text/plain": [
       "torch.Size([228146, 6])"
      ]
     },
     "execution_count": 12,
     "metadata": {},
     "output_type": "execute_result"
    }
   ],
   "source": [
    "emb.view(-1, 6).shape"
   ]
  },
  {
   "cell_type": "code",
   "execution_count": 13,
   "metadata": {},
   "outputs": [
    {
     "name": "stdout",
     "output_type": "stream",
     "text": [
      "tensor([[-0.8603,  0.7583,  0.9819,  ...,  0.1263,  0.9425,  0.3149],\n",
      "        [-0.5587,  0.0816,  0.5462,  ..., -0.6786,  0.9888,  0.3046],\n",
      "        [-0.3584, -0.4610,  0.7782,  ...,  0.9893,  0.9776, -0.4091],\n",
      "        ...,\n",
      "        [-0.6235,  0.9096,  0.8989,  ..., -0.9999,  0.9999, -0.3957],\n",
      "        [-0.7399,  0.9951,  0.9997,  ...,  0.9999,  0.9994, -0.9841],\n",
      "        [-0.9978, -0.9998, -0.9424,  ...,  0.3046, -0.9844,  0.9994]])\n"
     ]
    },
    {
     "data": {
      "text/plain": [
       "torch.Size([228146, 100])"
      ]
     },
     "execution_count": 13,
     "metadata": {},
     "output_type": "execute_result"
    }
   ],
   "source": [
    "h = torch.tanh(emb.view(-1, 6) @ W1 + b1)\n",
    "print(h)\n",
    "h.shape"
   ]
  },
  {
   "cell_type": "code",
   "execution_count": 14,
   "metadata": {},
   "outputs": [
    {
     "data": {
      "text/plain": [
       "torch.Size([228146, 27])"
      ]
     },
     "execution_count": 14,
     "metadata": {},
     "output_type": "execute_result"
    }
   ],
   "source": [
    "logits = h @ W2 + b2\n",
    "logits.shape"
   ]
  },
  {
   "cell_type": "code",
   "execution_count": 15,
   "metadata": {},
   "outputs": [
    {
     "data": {
      "text/plain": [
       "torch.Size([228146, 27])"
      ]
     },
     "execution_count": 15,
     "metadata": {},
     "output_type": "execute_result"
    }
   ],
   "source": [
    "counts = logits.exp()\n",
    "prob = counts / counts.sum(-1, keepdim=True)\n",
    "prob.shape"
   ]
  },
  {
   "cell_type": "code",
   "execution_count": 16,
   "metadata": {},
   "outputs": [
    {
     "data": {
      "text/plain": [
       "tensor(18.9086)"
      ]
     },
     "execution_count": 16,
     "metadata": {},
     "output_type": "execute_result"
    }
   ],
   "source": [
    "loss = -prob[torch.arange(len(Y)), Y].log().mean()\n",
    "loss"
   ]
  },
  {
   "cell_type": "code",
   "execution_count": 17,
   "metadata": {},
   "outputs": [
    {
     "data": {
      "text/plain": [
       "tensor(18.9086)"
      ]
     },
     "execution_count": 17,
     "metadata": {},
     "output_type": "execute_result"
    }
   ],
   "source": [
    "loss = F.cross_entropy(logits, Y)\n",
    "loss"
   ]
  },
  {
   "cell_type": "code",
   "execution_count": 18,
   "metadata": {},
   "outputs": [],
   "source": [
    "for p in parameters:\n",
    "    p.requires_grad = True"
   ]
  },
  {
   "cell_type": "code",
   "execution_count": 19,
   "metadata": {},
   "outputs": [],
   "source": [
    "# Learning rate\n",
    "lre = torch.linspace(-3, 0, 1000)\n",
    "lrs = 10**lre"
   ]
  },
  {
   "cell_type": "code",
   "execution_count": 20,
   "metadata": {},
   "outputs": [
    {
     "name": "stdout",
     "output_type": "stream",
     "text": [
      "9.649470329284668\n"
     ]
    }
   ],
   "source": [
    "# Find optimal learning rate\n",
    "lri = []\n",
    "lossi = []\n",
    "\n",
    "for i in range(1000):\n",
    "    # Minibatch construct\n",
    "    ix = torch.randint(0, X.shape[0], (32,))\n",
    "\n",
    "    # Forward pass\n",
    "    emb = C[X[ix]]  # (32, 3, 2)\n",
    "    h = torch.tanh(emb.view(-1, 6) @ W1 + b1)  # (32, 100)\n",
    "    logits = h @ W2 + b2  # (32, 27)\n",
    "    loss = F.cross_entropy(logits, Y[ix])\n",
    "\n",
    "    # Backward pass\n",
    "    for p in parameters:\n",
    "        p.grad = None\n",
    "    loss.backward()\n",
    "\n",
    "    # Update\n",
    "    lr = lrs[i]\n",
    "    for p in parameters:\n",
    "        p.data += -lr * p.grad\n",
    "\n",
    "    # Track stats\n",
    "    lri.append(lre[i])\n",
    "    lossi.append(loss.item())\n",
    "\n",
    "print(loss.item())"
   ]
  },
  {
   "cell_type": "code",
   "execution_count": 21,
   "metadata": {},
   "outputs": [
    {
     "data": {
      "text/plain": [
       "[<matplotlib.lines.Line2D at 0x16dd26f10>]"
      ]
     },
     "execution_count": 21,
     "metadata": {},
     "output_type": "execute_result"
    },
    {
     "data": {
      "image/png": "[encoded data removed]",
      "text/plain": [
       "<Figure size 640x480 with 1 Axes>"
      ]
     },
     "metadata": {},
     "output_type": "display_data"
    }
   ],
   "source": [
    "plt.plot(lri, lossi)"
   ]
  },
  {
   "cell_type": "code",
   "execution_count": 22,
   "metadata": {},
   "outputs": [
    {
     "name": "stdout",
     "output_type": "stream",
     "text": [
      "2.6621181964874268\n"
     ]
    }
   ],
   "source": [
    "# Training\n",
    "for i in range(10000):\n",
    "    # Minibatch construct\n",
    "    ix = torch.randint(0, X.shape[0], (32,))\n",
    "\n",
    "    # Forward pass\n",
    "    emb = C[X[ix]]  # (32, 3, 2)\n",
    "    h = torch.tanh(emb.view(-1, 6) @ W1 + b1)  # (32, 100)\n",
    "    logits = h @ W2 + b2  # (32, 27)\n",
    "    loss = F.cross_entropy(logits, Y[ix])\n",
    "\n",
    "    # Backward pass\n",
    "    for p in parameters:\n",
    "        p.grad = None\n",
    "    loss.backward()\n",
    "\n",
    "    # Update\n",
    "    lr = 0.5\n",
    "    for p in parameters:\n",
    "        p.data += -lr * p.grad\n",
    "\n",
    "print(loss.item())"
   ]
  },
  {
   "cell_type": "code",
   "execution_count": 23,
   "metadata": {},
   "outputs": [],
   "source": [
    "# Create the data sets\n",
    "random.shuffle(words)\n",
    "\n",
    "n1 = int(0.8 * len(words))\n",
    "n2 = int(0.9 * len(words))\n",
    "\n",
    "# Training split (80%)\n",
    "Xtr, Ytr = build_dataset(words[:n1])\n",
    "\n",
    "# Dev/validation split (10%)\n",
    "Xdev, Ydev = build_dataset(words[n1:n2])\n",
    "\n",
    "# Test split (10%)\n",
    "Xte, Yte = build_dataset(words[n2:])"
   ]
  },
  {
   "cell_type": "code",
   "execution_count": 24,
   "metadata": {},
   "outputs": [],
   "source": [
    "# Parameters\n",
    "C = torch.randn((27, 10))\n",
    "W1 = torch.randn((30, 200))\n",
    "b1 = torch.randn(200)\n",
    "W2 = torch.randn((200, 27))\n",
    "b2 = torch.randn(27)\n",
    "parameters = [C, W1, b1, W2, b2]\n",
    "\n",
    "for p in parameters:\n",
    "    p.requires_grad = True\n",
    "\n",
    "lossi = []\n",
    "stepi = []"
   ]
  },
  {
   "cell_type": "code",
   "execution_count": 25,
   "metadata": {},
   "outputs": [
    {
     "data": {
      "text/plain": [
       "200"
      ]
     },
     "execution_count": 25,
     "metadata": {},
     "output_type": "execute_result"
    }
   ],
   "source": [
    "W1.shape[1]"
   ]
  },
  {
   "cell_type": "code",
   "execution_count": 26,
   "metadata": {},
   "outputs": [
    {
     "name": "stdout",
     "output_type": "stream",
     "text": [
      "1.7651793956756592\n"
     ]
    }
   ],
   "source": [
    "# Training\n",
    "for i in range(200000):\n",
    "    # Minibatch construct\n",
    "    ix = torch.randint(0, Xtr.shape[0], (32,))\n",
    "\n",
    "    # Forward pass\n",
    "    emb = C[Xtr[ix]]  # (32, 3, 10)\n",
    "    h = torch.tanh(emb.view(-1, 30) @ W1 + b1)  # (32, 200)\n",
    "    logits = h @ W2 + b2  # (32, 27)\n",
    "    loss = F.cross_entropy(logits, Ytr[ix])\n",
    "\n",
    "    # Backward pass\n",
    "    for p in parameters:\n",
    "        p.grad = None\n",
    "    loss.backward()\n",
    "\n",
    "    # Update\n",
    "    lr = 0.1 if i < 100000 else 0.01\n",
    "    for p in parameters:\n",
    "        p.data += -lr * p.grad\n",
    "\n",
    "    # Track stats\n",
    "    stepi.append(i)\n",
    "    lossi.append(loss.log10().item())\n",
    "\n",
    "print(loss.item())"
   ]
  },
  {
   "cell_type": "code",
   "execution_count": 27,
   "metadata": {},
   "outputs": [
    {
     "data": {
      "text/plain": [
       "[<matplotlib.lines.Line2D at 0x16da29390>]"
      ]
     },
     "execution_count": 27,
     "metadata": {},
     "output_type": "execute_result"
    },
    {
     "data": {
      "image/png": "[encoded data removed]",
      "text/plain": [
       "<Figure size 640x480 with 1 Axes>"
      ]
     },
     "metadata": {},
     "output_type": "display_data"
    }
   ],
   "source": [
    "plt.plot(stepi, lossi)"
   ]
  },
  {
   "cell_type": "code",
   "execution_count": 28,
   "metadata": {},
   "outputs": [
    {
     "name": "stdout",
     "output_type": "stream",
     "text": [
      "2.1139519214630127\n"
     ]
    }
   ],
   "source": [
    "# Evaluate training\n",
    "emb = C[Xtr]  # (32, 3, 2)\n",
    "h = torch.tanh(emb.view(-1, 30) @ W1 + b1)  # (32, 100)\n",
    "logits = h @ W2 + b2  # (32, 27)\n",
    "loss = F.cross_entropy(logits, Ytr)\n",
    "print(loss.item())"
   ]
  },
  {
   "cell_type": "code",
   "execution_count": 29,
   "metadata": {},
   "outputs": [
    {
     "name": "stdout",
     "output_type": "stream",
     "text": [
      "2.1565704345703125\n"
     ]
    }
   ],
   "source": [
    "# Evaluate dev\n",
    "emb = C[Xdev]  # (32, 3, 2)\n",
    "h = torch.tanh(emb.view(-1, 30) @ W1 + b1)  # (32, 100)\n",
    "logits = h @ W2 + b2  # (32, 27)\n",
    "loss = F.cross_entropy(logits, Ydev)\n",
    "print(loss.item())"
   ]
  },
  {
   "cell_type": "code",
   "execution_count": 30,
   "metadata": {},
   "outputs": [
    {
     "data": {
      "image/png": "[encoded data removed]",
      "text/plain": [
       "<Figure size 800x800 with 1 Axes>"
      ]
     },
     "metadata": {},
     "output_type": "display_data"
    }
   ],
   "source": [
    "plt.figure(figsize=(8, 8))\n",
    "plt.scatter(C[:, 0].data, C[:, 1].data, s=200)\n",
    "for i in range(C.shape[0]):\n",
    "    plt.text(\n",
    "        C[i, 0].item(), C[i, 1].item(), itos[i], ha=\"center\", va=\"center\", color=\"white\"\n",
    "    )\n",
    "plt.grid(\"minor\")"
   ]
  },
  {
   "cell_type": "code",
   "execution_count": 31,
   "metadata": {},
   "outputs": [
    {
     "name": "stdout",
     "output_type": "stream",
     "text": [
      "makendreigh\n",
      "gavannora\n",
      "jaxxtonna\n",
      "keizesyn\n",
      "fran\n",
      "vadi\n",
      "rhylie\n",
      "galen\n",
      "kristi\n",
      "try\n",
      "kahlena\n",
      "rocka\n",
      "ros\n",
      "calyanellaw\n",
      "zamalenyiq\n",
      "kylea\n",
      "eliyah\n",
      "sha\n",
      "malwe\n",
      "karijchabira\n"
     ]
    }
   ],
   "source": [
    "for _ in range(20):\n",
    "    out = \"\"\n",
    "    context = [0] * 3\n",
    "    while True:\n",
    "        emb = C[torch.tensor([context])]\n",
    "        h = torch.tanh(emb.view(1, -1) @ W1 + b1)\n",
    "        logits = h @ W2 + b2\n",
    "        probs = F.softmax(logits, dim=1)\n",
    "        ix = torch.multinomial(probs, num_samples=1).item()\n",
    "        context = context[1:] + [ix]\n",
    "        if ix == 0:\n",
    "            break\n",
    "        out += itos[ix]\n",
    "\n",
    "    print(out)"
   ]
  },
  {
   "cell_type": "markdown",
   "metadata": {},
   "source": [
    "## [Exercises](https://youtu.be/TCH_1BHY58I)\n"
   ]
  },
  {
   "cell_type": "code",
   "execution_count": 32,
   "metadata": {},
   "outputs": [],
   "source": [
    "train_words, dev_words, test_words = load_words()"
   ]
  },
  {
   "cell_type": "markdown",
   "metadata": {},
   "source": [
    "### Exercise 1\n"
   ]
  },
  {
   "cell_type": "code",
   "execution_count": 33,
   "metadata": {},
   "outputs": [
    {
     "name": "stdout",
     "output_type": "stream",
     "text": [
      "Epoch 0 Loss: 2.5369691848754883\n",
      "Epoch 1 Loss: 2.8381664752960205\n",
      "Epoch 2 Loss: 2.5332117080688477\n",
      "Epoch 3 Loss: 2.224520206451416\n",
      "Epoch 4 Loss: 2.1530086994171143\n",
      "Epoch 5 Loss: 2.8715627193450928\n",
      "Epoch 6 Loss: 2.2779881954193115\n",
      "Epoch 7 Loss: 1.9116058349609375\n",
      "Epoch 8 Loss: 1.9115246534347534\n",
      "Epoch 9 Loss: 2.5593390464782715\n",
      "Epoch 10 Loss: 2.0334911346435547\n",
      "Learning rate reduced to 0.01\n",
      "Epoch 11 Loss: 2.5354671478271484\n",
      "Epoch 12 Loss: 1.816579818725586\n",
      "Epoch 13 Loss: 2.0181524753570557\n",
      "Epoch 14 Loss: 2.2958595752716064\n",
      "Epoch 15 Loss: 2.1950511932373047\n",
      "Epoch 16 Loss: 1.9858990907669067\n",
      "Epoch 17 Loss: 1.9746757745742798\n",
      "Epoch 18 Loss: 2.089125871658325\n",
      "Epoch 19 Loss: 2.140197992324829\n",
      "Epoch 20 Loss: 2.225043773651123\n",
      "Learning rate reduced to 0.001\n",
      "Epoch 21 Loss: 2.450284957885742\n",
      "Epoch 22 Loss: 2.447918653488159\n",
      "Epoch 23 Loss: 2.0798721313476562\n",
      "Epoch 24 Loss: 2.0373406410217285\n",
      "Epoch 25 Loss: 2.228476047515869\n",
      "Epoch 26 Loss: 1.946348786354065\n",
      "Epoch 27 Loss: 1.8768529891967773\n",
      "Epoch 28 Loss: 2.869824171066284\n",
      "Epoch 29 Loss: 1.7110704183578491\n",
      "Epoch 30 Loss: 2.297075033187866\n",
      "Learning rate reduced to 0.0001\n",
      "Epoch 31 Loss: 2.112671136856079\n",
      "Epoch 32 Loss: 2.2300238609313965\n",
      "Epoch 33 Loss: 2.2804956436157227\n",
      "Epoch 34 Loss: 2.3350987434387207\n",
      "Epoch 35 Loss: 2.076342821121216\n",
      "Epoch 36 Loss: 2.270681619644165\n",
      "Epoch 37 Loss: 2.097127676010132\n",
      "Epoch 38 Loss: 2.3603641986846924\n",
      "Epoch 39 Loss: 2.519360303878784\n"
     ]
    }
   ],
   "source": [
    "mlp = MLP([200], block_size=3, embedding_dim=10, weight_scale=0.01)\n",
    "mlp.train(\n",
    "    train_words,\n",
    "    minibatch_size=32,\n",
    "    epochs=40,\n",
    "    regularization=0.01,\n",
    "    learning_rate=0.1,\n",
    ")"
   ]
  },
  {
   "cell_type": "code",
   "execution_count": 34,
   "metadata": {},
   "outputs": [
    {
     "name": "stdout",
     "output_type": "stream",
     "text": [
      "niy\n",
      "tay\n",
      "lyx\n",
      "alareknaella\n",
      "koemannelissaris\n",
      "stana\n",
      "kenzy\n",
      "dehaaria\n",
      "zey\n",
      "jayas\n",
      "miseya\n",
      "kelan\n",
      "nic\n",
      "zoviaalyn\n",
      "bastin\n",
      "ashlee\n",
      "maria\n",
      "brabeltanne\n",
      "penalterlynn\n",
      "thri\n"
     ]
    }
   ],
   "source": [
    "for _ in range(20):\n",
    "    print(mlp.forward())"
   ]
  },
  {
   "cell_type": "code",
   "execution_count": 35,
   "metadata": {},
   "outputs": [
    {
     "name": "stdout",
     "output_type": "stream",
     "text": [
      "samirack\n",
      "samarlianna\n",
      "samfrin\n",
      "samaldie\n",
      "samrin\n",
      "samaylin\n",
      "samen\n",
      "samultin\n",
      "sam\n",
      "samyad\n"
     ]
    }
   ],
   "source": [
    "for _ in range(10):\n",
    "    print(mlp.forward(\"sam\"))"
   ]
  },
  {
   "cell_type": "code",
   "execution_count": 36,
   "metadata": {},
   "outputs": [
    {
     "name": "stdout",
     "output_type": "stream",
     "text": [
      "2.171713352203369\n",
      "2.1657910346984863\n"
     ]
    }
   ],
   "source": [
    "print(mlp.evaluate(dev_words))\n",
    "print(mlp.evaluate(test_words))"
   ]
  }
 ],
 "metadata": {
  "kernelspec": {
   "display_name": "Python 3",
   "language": "python",
   "name": "python3"
  },
  "language_info": {
   "codemirror_mode": {
    "name": "ipython",
    "version": 3
   },
   "file_extension": ".py",
   "mimetype": "text/x-python",
   "name": "python",
   "nbconvert_exporter": "python",
   "pygments_lexer": "ipython3",
   "version": "3.11.7"
  }
 },
 "nbformat": 4,
 "nbformat_minor": 2
}
