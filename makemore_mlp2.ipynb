{
 "cells": [
  {
   "cell_type": "code",
   "execution_count": 1,
   "metadata": {},
   "outputs": [],
   "source": [
    "from __future__ import annotations\n",
    "import torch\n",
    "import torch.nn.functional as F\n",
    "import matplotlib.pyplot as plt\n",
    "import random\n",
    "from makemore import BatchNorm, load_words\n",
    "\n",
    "%matplotlib inline"
   ]
  },
  {
   "cell_type": "code",
   "execution_count": 2,
   "metadata": {},
   "outputs": [],
   "source": [
    "words: list[str] = open(\"names.txt\", \"r\").read().splitlines()"
   ]
  },
  {
   "cell_type": "code",
   "execution_count": 3,
   "metadata": {},
   "outputs": [],
   "source": [
    "# Gets all the characters, a-z\n",
    "chars: list[str] = sorted(list(set(\"\".join(words))))\n",
    "\n",
    "# Maps each character to an integer\n",
    "stoi: dict[str, int] = {s: i + 1 for i, s in enumerate(chars)}\n",
    "stoi[\".\"] = 0\n",
    "\n",
    "# Maps each integer to a character\n",
    "itos: dict[int, str] = {i: s for s, i in stoi.items()}\n",
    "vocab_size: int = len(stoi)"
   ]
  },
  {
   "cell_type": "code",
   "execution_count": 4,
   "metadata": {},
   "outputs": [],
   "source": [
    "# build the dataset\n",
    "block_size = (\n",
    "    3  # context length: how many characters do we take to predict the next one?\n",
    ")\n",
    "\n",
    "\n",
    "def build_dataset(words):\n",
    "    X, Y = [], []\n",
    "\n",
    "    for w in words:\n",
    "        context = [0] * block_size\n",
    "        for ch in w + \".\":\n",
    "            ix = stoi[ch]\n",
    "            X.append(context)\n",
    "            Y.append(ix)\n",
    "            context = context[1:] + [ix]  # crop and append\n",
    "\n",
    "    X = torch.tensor(X)\n",
    "    Y = torch.tensor(Y)\n",
    "    print(X.shape, Y.shape)\n",
    "    return X, Y"
   ]
  },
  {
   "cell_type": "code",
   "execution_count": 5,
   "metadata": {},
   "outputs": [
    {
     "name": "stdout",
     "output_type": "stream",
     "text": [
      "torch.Size([182625, 3]) torch.Size([182625])\n",
      "torch.Size([22655, 3]) torch.Size([22655])\n",
      "torch.Size([22866, 3]) torch.Size([22866])\n"
     ]
    }
   ],
   "source": [
    "random.seed(42)\n",
    "random.shuffle(words)\n",
    "n1 = int(0.8 * len(words))\n",
    "n2 = int(0.9 * len(words))\n",
    "\n",
    "Xtr, Ytr = build_dataset(words[:n1])  # 80%\n",
    "Xdev, Ydev = build_dataset(words[n1:n2])  # 10%\n",
    "Xte, Yte = build_dataset(words[n2:])  # 10%"
   ]
  },
  {
   "cell_type": "code",
   "execution_count": 6,
   "metadata": {},
   "outputs": [
    {
     "name": "stdout",
     "output_type": "stream",
     "text": [
      "12097\n"
     ]
    }
   ],
   "source": [
    "# MLP\n",
    "n_embd = 10  # Embedding dimension\n",
    "n_hidden = 200  # Neurons in hidden layer\n",
    "\n",
    "g = torch.Generator().manual_seed(2147483647)\n",
    "C = torch.randn((vocab_size, n_embd), generator=g)\n",
    "W1 = torch.randn((n_embd * block_size, n_hidden), generator=g) * (\n",
    "    (5 / 3) / ((n_embd * block_size) ** 0.5)\n",
    ")\n",
    "# Batch normalization layer has its own bias\n",
    "# b1 = torch.randn((n_hidden), generator=g) * 0.01\n",
    "W2 = torch.randn((n_hidden, vocab_size), generator=g) * 0.01\n",
    "b2 = torch.randn((vocab_size), generator=g) * 0\n",
    "\n",
    "# Batch normalization\n",
    "bngain = torch.ones((1, n_hidden))  # Gamma\n",
    "bnbias = torch.zeros((1, n_hidden))  # Beta\n",
    "bnmean_running = torch.zeros((1, n_hidden))\n",
    "bnstd_running = torch.zeros((1, n_hidden))\n",
    "\n",
    "parameters = [C, W1, W2, b2, bngain, bnbias]\n",
    "print(sum([p.nelement() for p in parameters]))\n",
    "for p in parameters:\n",
    "    p.requires_grad = True"
   ]
  },
  {
   "cell_type": "code",
   "execution_count": 7,
   "metadata": {},
   "outputs": [
    {
     "data": {
      "text/plain": [
       "tensor(0.1982)"
      ]
     },
     "execution_count": 7,
     "metadata": {},
     "output_type": "execute_result"
    }
   ],
   "source": [
    "# Scalar you multiply the Gaussian by becomes its std\n",
    "(torch.randn(10000) * 0.2).std()"
   ]
  },
  {
   "cell_type": "code",
   "execution_count": 8,
   "metadata": {},
   "outputs": [
    {
     "data": {
      "text/plain": [
       "0.3042903097250923"
      ]
     },
     "execution_count": 8,
     "metadata": {},
     "output_type": "execute_result"
    }
   ],
   "source": [
    "# In Kaiming initialization, the gain is sqrt(2) for ReLU and (5/3) for tanh\n",
    "# https://pytorch.org/docs/stable/nn.init.html\n",
    "(5 / 3) / (30**0.5)"
   ]
  },
  {
   "cell_type": "code",
   "execution_count": 9,
   "metadata": {},
   "outputs": [
    {
     "name": "stdout",
     "output_type": "stream",
     "text": [
      "tensor(-0.0008) tensor(1.0072)\n",
      "tensor(-0.0024) tensor(1.0116)\n"
     ]
    },
    {
     "data": {
      "image/png": "[encoded data removed]",
      "text/plain": [
       "<Figure size 2000x500 with 2 Axes>"
      ]
     },
     "metadata": {},
     "output_type": "display_data"
    }
   ],
   "source": [
    "x = torch.randn(1000, 10)\n",
    "w = torch.randn(10, 200) / (10**0.5)\n",
    "y = x @ w\n",
    "print(x.mean(), x.std())\n",
    "print(y.mean(), y.std())\n",
    "plt.figure(figsize=(20, 5))\n",
    "plt.subplot(121)\n",
    "plt.hist(x.view(-1).tolist(), 50, density=True)\n",
    "plt.subplot(122)\n",
    "plt.hist(y.view(-1).tolist(), 50, density=True);"
   ]
  },
  {
   "cell_type": "code",
   "execution_count": 10,
   "metadata": {},
   "outputs": [
    {
     "name": "stdout",
     "output_type": "stream",
     "text": [
      "      0/ 200000: 3.3239\n",
      "  10000/ 200000: 2.0322\n",
      "  20000/ 200000: 2.5675\n",
      "  30000/ 200000: 2.0125\n",
      "  40000/ 200000: 2.2446\n",
      "  50000/ 200000: 1.8897\n",
      "  60000/ 200000: 2.0785\n",
      "  70000/ 200000: 2.3681\n",
      "  80000/ 200000: 2.2918\n",
      "  90000/ 200000: 2.0238\n",
      " 100000/ 200000: 2.3673\n",
      " 110000/ 200000: 2.3132\n",
      " 120000/ 200000: 1.6414\n",
      " 130000/ 200000: 1.9311\n",
      " 140000/ 200000: 2.2231\n",
      " 150000/ 200000: 2.0027\n",
      " 160000/ 200000: 2.0997\n",
      " 170000/ 200000: 2.4949\n",
      " 180000/ 200000: 2.0199\n",
      " 190000/ 200000: 2.1707\n"
     ]
    }
   ],
   "source": [
    "max_steps = 200000\n",
    "batch_size = 32\n",
    "lossi = []\n",
    "\n",
    "for i in range(max_steps):\n",
    "    # Mini-batch\n",
    "    ix = torch.randint(0, Xtr.shape[0], (batch_size,), generator=g)\n",
    "    Xb, Yb = Xtr[ix], Ytr[ix]\n",
    "\n",
    "    # Forward pass\n",
    "    emb = C[Xb]\n",
    "    embcat = emb.view(emb.shape[0], -1)\n",
    "    # Linear layer\n",
    "    hpreact = embcat @ W1  # + b1  # Hidden layer weighted inputs\n",
    "    # Batch normalization\n",
    "    bnmeani = hpreact.mean(0, keepdim=True)\n",
    "    bnstdi = hpreact.std(0, keepdim=True)\n",
    "    hpreact = bngain * (hpreact - bnmeani) / bnstdi + bnbias\n",
    "\n",
    "    with torch.no_grad():\n",
    "        # Momentum = 0.001\n",
    "        bnmean_running = 0.999 * bnmean_running + 0.001 * bnmeani\n",
    "        bnstd_running = 0.999 * bnstd_running + 0.001 * bnstdi\n",
    "\n",
    "    h = torch.tanh(hpreact)  # Hidden layer activations\n",
    "    logits = h @ W2 + b2  # Output layer\n",
    "    loss = F.cross_entropy(logits, Yb)  # Loss function\n",
    "\n",
    "    # Backward pass\n",
    "    for p in parameters:\n",
    "        p.grad = None\n",
    "    loss.backward()\n",
    "\n",
    "    # Update\n",
    "    lr = 0.1 if i < 100000 else 0.01\n",
    "    for p in parameters:\n",
    "        p.data += -lr * p.grad\n",
    "\n",
    "    # Logging\n",
    "    if i % 10000 == 0:\n",
    "        print(f\"{i:7d}/{max_steps:7d}: {loss.item():.4f}\")\n",
    "    lossi.append(loss.log10().item())"
   ]
  },
  {
   "cell_type": "code",
   "execution_count": 11,
   "metadata": {},
   "outputs": [
    {
     "data": {
      "text/plain": [
       "<matplotlib.image.AxesImage at 0x146f879d0>"
      ]
     },
     "execution_count": 11,
     "metadata": {},
     "output_type": "execute_result"
    },
    {
     "data": {
      "image/png": "[encoded data removed]",
      "text/plain": [
       "<Figure size 2000x1000 with 1 Axes>"
      ]
     },
     "metadata": {},
     "output_type": "display_data"
    }
   ],
   "source": [
    "plt.figure(figsize=(20, 10))\n",
    "plt.imshow(h.abs() > 0.99, cmap=\"gray\", interpolation=\"nearest\")"
   ]
  },
  {
   "cell_type": "code",
   "execution_count": 12,
   "metadata": {},
   "outputs": [
    {
     "data": {
      "image/png": "[encoded data removed]",
      "text/plain": [
       "<Figure size 640x480 with 1 Axes>"
      ]
     },
     "metadata": {},
     "output_type": "display_data"
    }
   ],
   "source": [
    "plt.hist(h.view(-1).tolist(), 50);"
   ]
  },
  {
   "cell_type": "code",
   "execution_count": 13,
   "metadata": {},
   "outputs": [
    {
     "data": {
      "image/png": "[encoded data removed]",
      "text/plain": [
       "<Figure size 640x480 with 1 Axes>"
      ]
     },
     "metadata": {},
     "output_type": "display_data"
    }
   ],
   "source": [
    "plt.hist(hpreact.view(-1).tolist(), 50);"
   ]
  },
  {
   "cell_type": "code",
   "execution_count": 14,
   "metadata": {},
   "outputs": [
    {
     "data": {
      "text/plain": [
       "[<matplotlib.lines.Line2D at 0x168587350>]"
      ]
     },
     "execution_count": 14,
     "metadata": {},
     "output_type": "execute_result"
    },
    {
     "data": {
      "image/png": "[encoded data removed]",
      "text/plain": [
       "<Figure size 640x480 with 1 Axes>"
      ]
     },
     "metadata": {},
     "output_type": "display_data"
    }
   ],
   "source": [
    "plt.plot(lossi)"
   ]
  },
  {
   "cell_type": "code",
   "execution_count": 15,
   "metadata": {},
   "outputs": [
    {
     "data": {
      "text/plain": [
       "(tensor([0., 0., 5., 0.]),\n",
       " tensor([0.0066, 0.0066, 0.9802, 0.0066]),\n",
       " tensor(0.0200))"
      ]
     },
     "execution_count": 15,
     "metadata": {},
     "output_type": "execute_result"
    }
   ],
   "source": [
    "# The loss is lowest when the model is confident in its prediction\n",
    "# Loss tends to be highest when the model is not confident in its prediction\n",
    "# It is slightly lower when the output values are close to each other\n",
    "logits = torch.tensor([0.0, 0.0, 5.0, 0.0])\n",
    "# logits = torch.randn(4) * 10\n",
    "probs = torch.softmax(logits, dim=0)\n",
    "loss = -probs[2].log()\n",
    "logits, probs, loss"
   ]
  },
  {
   "cell_type": "code",
   "execution_count": 16,
   "metadata": {},
   "outputs": [
    {
     "data": {
      "text/plain": [
       "tensor(3.2958)"
      ]
     },
     "execution_count": 16,
     "metadata": {},
     "output_type": "execute_result"
    }
   ],
   "source": [
    "# Expected starting loss\n",
    "-torch.tensor(1 / 27.0).log()"
   ]
  },
  {
   "cell_type": "code",
   "execution_count": 17,
   "metadata": {},
   "outputs": [],
   "source": [
    "# Explicitly calibrate batchnorm statistics\n",
    "with torch.no_grad():\n",
    "    emb = C[Xtr]\n",
    "    embcat = emb.view(emb.shape[0], -1)\n",
    "    hpreact = embcat @ W1  # + b1\n",
    "    # Measure the mean and std over the entire training set\n",
    "    bnmean = hpreact.mean(0, keepdim=True)\n",
    "    bnstd = hpreact.std(0, keepdim=True)"
   ]
  },
  {
   "cell_type": "code",
   "execution_count": 18,
   "metadata": {},
   "outputs": [
    {
     "data": {
      "text/plain": [
       "tensor([[-2.3948,  0.3696, -1.2718,  1.2949,  0.9555,  0.9955,  1.5502, -1.9208,\n",
       "          1.1124,  1.2444, -1.8118, -2.7730,  0.0738, -0.6075,  0.4335, -0.6823,\n",
       "          0.7747, -2.1882, -0.1999,  1.5907, -0.8760,  0.0857, -0.2508,  0.4101,\n",
       "          1.0317,  1.6305,  1.1978,  0.9557,  0.3583,  1.9510, -0.0680, -1.2067,\n",
       "         -0.1050, -0.2660, -0.4748, -1.4983, -2.6133,  0.0533, -0.0121,  0.6010,\n",
       "         -0.2272, -0.8899, -0.2851, -0.1833,  0.6506,  0.8990,  1.5831, -0.3836,\n",
       "          1.9892,  1.0677,  1.7157, -0.7880,  2.0549,  0.3595,  0.5519, -1.9214,\n",
       "         -0.0325,  0.7197,  0.8938, -0.7950, -0.6654,  0.9819,  0.4983,  0.2976,\n",
       "          1.1429,  1.6462, -1.3212,  2.4308, -0.5223,  0.4782, -1.0088,  0.2362,\n",
       "          1.0452, -1.5624, -3.0715,  0.6018,  0.7532, -0.0513,  0.4650,  0.7593,\n",
       "          0.2517,  1.2640,  1.4016,  0.5572, -0.2063, -0.0653, -1.3350,  0.5009,\n",
       "          0.1291, -0.4667, -0.3977,  1.4659, -1.1291, -0.8739, -0.9940,  0.2943,\n",
       "         -0.3024,  0.1405,  0.2856, -1.0413,  0.2479,  0.6908, -1.4194,  1.0653,\n",
       "          0.4560, -0.2021, -0.4745, -0.1193,  0.9536, -1.0102,  0.7821,  0.1748,\n",
       "          0.2296,  0.9796,  2.9407,  1.9042,  0.1658,  0.8051,  0.4574, -0.0943,\n",
       "         -1.1577, -1.0590,  0.4322,  0.8402, -0.7031,  0.0940, -0.0381, -0.3770,\n",
       "         -0.5182, -1.0748,  2.6901, -1.0057,  0.7745,  2.1909,  0.4046,  1.1375,\n",
       "         -0.0404,  1.8746,  0.0478,  0.4704,  1.5162, -0.3879,  1.9389,  0.7074,\n",
       "          0.0707, -0.0672,  1.1281, -1.2489,  0.3530,  0.2353, -1.7199,  0.3775,\n",
       "          1.2344,  1.0499,  0.5150, -0.1970,  0.9785, -1.4430,  0.0422,  0.4347,\n",
       "          0.7280, -0.4668,  0.9470, -1.2011, -0.6418, -0.5000,  0.0598,  0.4865,\n",
       "         -1.9118,  0.1294,  0.9289, -2.5116,  0.0242, -0.9411, -0.5212,  1.1972,\n",
       "          1.4314, -1.1099,  1.4439, -1.5512,  1.6176,  1.0063,  1.4732, -1.2632,\n",
       "          0.3722, -0.4099, -1.0121,  0.7996,  1.8912,  0.6144,  0.4715,  1.4140,\n",
       "         -1.0265,  0.6630,  0.2074,  1.2788,  1.3654, -0.7380, -0.0289,  0.4636]])"
      ]
     },
     "execution_count": 18,
     "metadata": {},
     "output_type": "execute_result"
    }
   ],
   "source": [
    "bnmean"
   ]
  },
  {
   "cell_type": "code",
   "execution_count": 19,
   "metadata": {},
   "outputs": [
    {
     "data": {
      "text/plain": [
       "tensor([[-2.4073e+00,  3.7330e-01, -1.2681e+00,  1.2967e+00,  9.6878e-01,\n",
       "          9.8373e-01,  1.5422e+00, -1.9247e+00,  1.1061e+00,  1.2247e+00,\n",
       "         -1.8296e+00, -2.7717e+00,  7.1375e-02, -6.1822e-01,  4.3361e-01,\n",
       "         -6.6874e-01,  7.7061e-01, -2.1880e+00, -2.1888e-01,  1.5706e+00,\n",
       "         -8.6628e-01,  1.0768e-01, -2.3914e-01,  4.1435e-01,  1.0355e+00,\n",
       "          1.6324e+00,  1.1980e+00,  9.5800e-01,  3.5302e-01,  1.9480e+00,\n",
       "         -8.0369e-02, -1.2021e+00, -9.8011e-02, -2.6651e-01, -4.7074e-01,\n",
       "         -1.4911e+00, -2.6119e+00,  4.6958e-02, -3.1095e-04,  6.0432e-01,\n",
       "         -2.3634e-01, -9.1245e-01, -2.8295e-01, -1.7836e-01,  6.5023e-01,\n",
       "          9.0385e-01,  1.5864e+00, -3.9490e-01,  1.9726e+00,  1.0563e+00,\n",
       "          1.7167e+00, -7.9532e-01,  2.0450e+00,  3.5586e-01,  5.4984e-01,\n",
       "         -1.9198e+00, -3.1761e-02,  7.1274e-01,  9.0174e-01, -7.9930e-01,\n",
       "         -6.7666e-01,  9.6929e-01,  4.8907e-01,  2.9597e-01,  1.1424e+00,\n",
       "          1.6292e+00, -1.3298e+00,  2.4247e+00, -5.1584e-01,  4.8768e-01,\n",
       "         -1.0141e+00,  2.5258e-01,  1.0364e+00, -1.5358e+00, -3.0635e+00,\n",
       "          5.8795e-01,  7.5475e-01, -3.7498e-02,  4.7131e-01,  7.4792e-01,\n",
       "          2.4879e-01,  1.2456e+00,  1.3811e+00,  5.6238e-01, -1.9894e-01,\n",
       "         -6.7219e-02, -1.3354e+00,  4.9327e-01,  1.1923e-01, -4.6234e-01,\n",
       "         -4.0244e-01,  1.4729e+00, -1.1222e+00, -8.7219e-01, -9.8712e-01,\n",
       "          2.9701e-01, -3.1920e-01,  1.4933e-01,  2.8674e-01, -1.0267e+00,\n",
       "          2.4871e-01,  6.9122e-01, -1.4251e+00,  1.0637e+00,  4.6233e-01,\n",
       "         -1.9600e-01, -4.6789e-01, -1.2119e-01,  9.6224e-01, -1.0263e+00,\n",
       "          7.6695e-01,  1.8950e-01,  2.1195e-01,  9.8554e-01,  2.9216e+00,\n",
       "          1.9032e+00,  1.5857e-01,  7.9004e-01,  4.4996e-01, -1.0816e-01,\n",
       "         -1.1788e+00, -1.0540e+00,  4.2656e-01,  8.5131e-01, -7.0131e-01,\n",
       "          9.2380e-02, -5.1760e-02, -3.7888e-01, -5.0915e-01, -1.0754e+00,\n",
       "          2.6798e+00, -9.9379e-01,  7.8561e-01,  2.1986e+00,  4.2333e-01,\n",
       "          1.1442e+00, -4.0674e-02,  1.8567e+00,  4.7640e-02,  4.8327e-01,\n",
       "          1.5269e+00, -3.9333e-01,  1.9467e+00,  7.1543e-01,  5.6457e-02,\n",
       "         -6.7138e-02,  1.1483e+00, -1.2526e+00,  3.4191e-01,  2.4585e-01,\n",
       "         -1.7174e+00,  3.8331e-01,  1.2315e+00,  1.0462e+00,  5.0716e-01,\n",
       "         -1.9994e-01,  9.7843e-01, -1.4476e+00,  4.4550e-02,  4.1619e-01,\n",
       "          7.1786e-01, -4.5337e-01,  9.4307e-01, -1.1859e+00, -6.4502e-01,\n",
       "         -5.0807e-01,  6.3377e-02,  4.6674e-01, -1.9004e+00,  1.3387e-01,\n",
       "          9.1060e-01, -2.5166e+00,  2.1295e-02, -9.3342e-01, -5.2102e-01,\n",
       "          1.2032e+00,  1.4227e+00, -1.1040e+00,  1.4431e+00, -1.5508e+00,\n",
       "          1.6040e+00,  1.0124e+00,  1.4588e+00, -1.2585e+00,  3.5968e-01,\n",
       "         -4.1557e-01, -1.0155e+00,  7.9460e-01,  1.9004e+00,  6.1279e-01,\n",
       "          4.7399e-01,  1.4178e+00, -1.0406e+00,  6.5127e-01,  2.2696e-01,\n",
       "          1.2652e+00,  1.3615e+00, -7.4805e-01, -4.5355e-02,  4.6110e-01]])"
      ]
     },
     "execution_count": 19,
     "metadata": {},
     "output_type": "execute_result"
    }
   ],
   "source": [
    "bnmean_running"
   ]
  },
  {
   "cell_type": "code",
   "execution_count": 26,
   "metadata": {},
   "outputs": [
    {
     "name": "stdout",
     "output_type": "stream",
     "text": [
      "train 2.0674145221710205\n",
      "val 2.1056838035583496\n",
      "test 2.1070175170898438\n"
     ]
    }
   ],
   "source": [
    "@torch.no_grad()\n",
    "def split_loss(split):\n",
    "    x, y = {\n",
    "        \"train\": (Xtr, Ytr),\n",
    "        \"val\": (Xdev, Ydev),\n",
    "        \"test\": (Xte, Yte),\n",
    "    }[split]\n",
    "    emb = C[x]\n",
    "    embcat = emb.view(emb.shape[0], -1)\n",
    "    hpreact = embcat @ W1  # + b1\n",
    "    # hpreact = (\n",
    "    #     bngain\n",
    "    #     * (hpreact - hpreact.mean(0, keepdim=True))\n",
    "    #     / hpreact.std(0, keepdim=True)\n",
    "    #     + bnbias\n",
    "    # )\n",
    "    hpreact = bngain * (hpreact - bnmean_running) / bnstd_running + bnbias\n",
    "    h = torch.tanh(hpreact)\n",
    "    logits = h @ W2 + b2\n",
    "    loss = F.cross_entropy(logits, y)\n",
    "    print(split, loss.item())\n",
    "\n",
    "\n",
    "split_loss(\"train\")\n",
    "split_loss(\"val\")\n",
    "split_loss(\"test\")"
   ]
  },
  {
   "cell_type": "code",
   "execution_count": 21,
   "metadata": {},
   "outputs": [],
   "source": [
    "train_words, dev_words, test_words = load_words()"
   ]
  },
  {
   "cell_type": "code",
   "execution_count": 22,
   "metadata": {},
   "outputs": [
    {
     "name": "stdout",
     "output_type": "stream",
     "text": [
      "Epoch 0 Loss: 2.410095164076783\n",
      "Epoch 1 Loss: 2.2993326198220108\n",
      "Epoch 2 Loss: 2.2652092363190537\n",
      "Epoch 3 Loss: 2.246250022334119\n",
      "Epoch 4 Loss: 2.232816731852384\n",
      "Epoch 5 Loss: 2.223591139680943\n",
      "Epoch 6 Loss: 2.2160224330950293\n",
      "Epoch 7 Loss: 2.2101944182960374\n",
      "Epoch 8 Loss: 2.202680882350837\n",
      "Epoch 9 Loss: 2.199792699785395\n",
      "Epoch 10 Loss: 2.195019349944782\n",
      "Epoch 11 Loss: 2.1926746686355423\n",
      "Epoch 12 Loss: 2.1881278827328874\n",
      "Epoch 13 Loss: 2.1860055717632925\n",
      "Epoch 14 Loss: 2.18245088031238\n",
      "Epoch 15 Loss: 2.1813426932905364\n",
      "Epoch 16 Loss: 2.1792763980737297\n",
      "Epoch 17 Loss: 2.1777084726140172\n",
      "Epoch 18 Loss: 2.1761530104342794\n",
      "Epoch 19 Loss: 2.175958575020968\n",
      "Epoch 20 Loss: 2.174029939424408\n",
      "Learning rate reduced to 0.01\n",
      "Epoch 21 Loss: 2.110110121811664\n",
      "Epoch 22 Loss: 2.1052374303665133\n",
      "Epoch 23 Loss: 2.1042394561084827\n",
      "Epoch 24 Loss: 2.103356282529883\n",
      "Epoch 25 Loss: 2.102243397168516\n",
      "Epoch 26 Loss: 2.1016807738135292\n",
      "Epoch 27 Loss: 2.1015613972879246\n",
      "Epoch 28 Loss: 2.1018315326291064\n",
      "Epoch 29 Loss: 2.100007114420441\n",
      "Epoch 30 Loss: 2.100736929421091\n",
      "Epoch 31 Loss: 2.100177397768128\n",
      "Epoch 32 Loss: 2.099618431015336\n",
      "Epoch 33 Loss: 2.0989697148955107\n",
      "Epoch 34 Loss: 2.0989230329435236\n",
      "Epoch 35 Loss: 2.0982909717566507\n",
      "Epoch 36 Loss: 2.098579659569073\n",
      "Epoch 37 Loss: 2.0979548883471577\n",
      "Epoch 38 Loss: 2.0982583655372253\n",
      "Epoch 39 Loss: 2.0982666518483626\n"
     ]
    }
   ],
   "source": [
    "batchnorm = BatchNorm(sizes=[200])\n",
    "batchnorm.train(train_words)"
   ]
  },
  {
   "cell_type": "code",
   "execution_count": 23,
   "metadata": {},
   "outputs": [
    {
     "name": "stdout",
     "output_type": "stream",
     "text": [
      "wille\n",
      "ryanna\n",
      "die\n",
      "kendy\n",
      "emir\n",
      "stan\n",
      "oion\n",
      "azyah\n",
      "andel\n",
      "shandi\n",
      "jutaa\n",
      "lea\n",
      "joriah\n",
      "keighrishawn\n",
      "audy\n",
      "calipioras\n",
      "singiyia\n",
      "jiano\n",
      "makelijtylie\n",
      "saman\n"
     ]
    }
   ],
   "source": [
    "for _ in range(20):\n",
    "    print(batchnorm.forward())"
   ]
  },
  {
   "cell_type": "code",
   "execution_count": 24,
   "metadata": {},
   "outputs": [
    {
     "name": "stdout",
     "output_type": "stream",
     "text": [
      "samil\n",
      "samhirmamesie\n",
      "samuni\n",
      "samai\n",
      "samnavaria\n",
      "samia\n",
      "same\n",
      "sam\n",
      "samia\n",
      "samya\n"
     ]
    }
   ],
   "source": [
    "for _ in range(10):\n",
    "    print(batchnorm.forward(\"sam\"))"
   ]
  },
  {
   "cell_type": "code",
   "execution_count": 25,
   "metadata": {},
   "outputs": [
    {
     "name": "stdout",
     "output_type": "stream",
     "text": [
      "2.1095218658447266\n",
      "2.103419065475464\n"
     ]
    }
   ],
   "source": [
    "print(batchnorm.evaluate(dev_words))\n",
    "print(batchnorm.evaluate(test_words))"
   ]
  }
 ],
 "metadata": {
  "kernelspec": {
   "display_name": "Python 3",
   "language": "python",
   "name": "python3"
  },
  "language_info": {
   "codemirror_mode": {
    "name": "ipython",
    "version": 3
   },
   "file_extension": ".py",
   "mimetype": "text/x-python",
   "name": "python",
   "nbconvert_exporter": "python",
   "pygments_lexer": "ipython3",
   "version": "3.11.7"
  }
 },
 "nbformat": 4,
 "nbformat_minor": 2
}
