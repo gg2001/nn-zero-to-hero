{
 "cells": [
  {
   "cell_type": "code",
   "execution_count": 1,
   "metadata": {},
   "outputs": [],
   "source": [
    "import torch\n",
    "import torch.nn.functional as F\n",
    "import matplotlib.pyplot as plt  # for making figures\n",
    "import random\n",
    "from makemore import PytorchifiedBatchNorm, Linear, Tanh, BatchNorm1d, load_words\n",
    "\n",
    "%matplotlib inline"
   ]
  },
  {
   "cell_type": "code",
   "execution_count": 2,
   "metadata": {},
   "outputs": [
    {
     "name": "stdout",
     "output_type": "stream",
     "text": [
      "32033\n",
      "15\n",
      "['emma', 'olivia', 'ava', 'isabella', 'sophia', 'charlotte', 'mia', 'amelia']\n"
     ]
    }
   ],
   "source": [
    "# read in all the words\n",
    "words = open(\"names.txt\", \"r\").read().splitlines()\n",
    "print(len(words))\n",
    "print(max(len(w) for w in words))\n",
    "print(words[:8])"
   ]
  },
  {
   "cell_type": "code",
   "execution_count": 3,
   "metadata": {},
   "outputs": [
    {
     "name": "stdout",
     "output_type": "stream",
     "text": [
      "{1: 'a', 2: 'b', 3: 'c', 4: 'd', 5: 'e', 6: 'f', 7: 'g', 8: 'h', 9: 'i', 10: 'j', 11: 'k', 12: 'l', 13: 'm', 14: 'n', 15: 'o', 16: 'p', 17: 'q', 18: 'r', 19: 's', 20: 't', 21: 'u', 22: 'v', 23: 'w', 24: 'x', 25: 'y', 26: 'z', 0: '.'}\n",
      "27\n"
     ]
    }
   ],
   "source": [
    "# build the vocabulary of characters and mappings to/from integers\n",
    "chars = sorted(list(set(\"\".join(words))))\n",
    "stoi = {s: i + 1 for i, s in enumerate(chars)}\n",
    "stoi[\".\"] = 0\n",
    "itos = {i: s for s, i in stoi.items()}\n",
    "vocab_size = len(itos)\n",
    "print(itos)\n",
    "print(vocab_size)"
   ]
  },
  {
   "cell_type": "code",
   "execution_count": 4,
   "metadata": {},
   "outputs": [
    {
     "name": "stdout",
     "output_type": "stream",
     "text": [
      "torch.Size([182625, 3]) torch.Size([182625])\n",
      "torch.Size([22655, 3]) torch.Size([22655])\n",
      "torch.Size([22866, 3]) torch.Size([22866])\n"
     ]
    }
   ],
   "source": [
    "# build the dataset\n",
    "block_size = (\n",
    "    3  # context length: how many characters do we take to predict the next one?\n",
    ")\n",
    "\n",
    "\n",
    "def build_dataset(words):\n",
    "    X, Y = [], []\n",
    "\n",
    "    for w in words:\n",
    "        context = [0] * block_size\n",
    "        for ch in w + \".\":\n",
    "            ix = stoi[ch]\n",
    "            X.append(context)\n",
    "            Y.append(ix)\n",
    "            context = context[1:] + [ix]  # crop and append\n",
    "\n",
    "    X = torch.tensor(X)\n",
    "    Y = torch.tensor(Y)\n",
    "    print(X.shape, Y.shape)\n",
    "    return X, Y\n",
    "\n",
    "\n",
    "random.seed(42)\n",
    "random.shuffle(words)\n",
    "n1 = int(0.8 * len(words))\n",
    "n2 = int(0.9 * len(words))\n",
    "\n",
    "Xtr, Ytr = build_dataset(words[:n1])  # 80%\n",
    "Xdev, Ydev = build_dataset(words[n1:n2])  # 10%\n",
    "Xte, Yte = build_dataset(words[n2:])  # 10%"
   ]
  },
  {
   "cell_type": "code",
   "execution_count": 5,
   "metadata": {},
   "outputs": [],
   "source": [
    "train_words, dev_words, test_words = load_words()"
   ]
  },
  {
   "cell_type": "code",
   "execution_count": 6,
   "metadata": {},
   "outputs": [],
   "source": [
    "pytorchified = PytorchifiedBatchNorm([200], batchnorm_output=False)"
   ]
  },
  {
   "cell_type": "code",
   "execution_count": 7,
   "metadata": {},
   "outputs": [
    {
     "name": "stdout",
     "output_type": "stream",
     "text": [
      "Epoch 0 Loss: 2.4064336891319904\n",
      "Epoch 1 Loss: 2.2949224881151933\n",
      "Epoch 2 Loss: 2.2631975756044618\n",
      "Epoch 3 Loss: 2.24538444230213\n",
      "Epoch 4 Loss: 2.2315133992026284\n",
      "Epoch 5 Loss: 2.222514262072223\n",
      "Epoch 6 Loss: 2.21617734444771\n",
      "Epoch 7 Loss: 2.2087419089946354\n",
      "Epoch 8 Loss: 2.203415830044563\n",
      "Epoch 9 Loss: 2.2000580487240406\n",
      "Epoch 10 Loss: 2.1970888651511316\n",
      "Epoch 11 Loss: 2.193447718412798\n",
      "Epoch 12 Loss: 2.1912938745675703\n",
      "Epoch 13 Loss: 2.188144867828926\n",
      "Epoch 14 Loss: 2.1855567170979997\n",
      "Epoch 15 Loss: 2.18325033953868\n",
      "Epoch 16 Loss: 2.1808309601699913\n",
      "Epoch 17 Loss: 2.180187302966937\n",
      "Epoch 18 Loss: 2.1783067406970464\n",
      "Epoch 19 Loss: 2.1762382246189147\n",
      "Epoch 20 Loss: 2.175381190673492\n",
      "Learning rate reduced to 0.01\n",
      "Epoch 21 Loss: 2.1116246351925483\n",
      "Epoch 22 Loss: 2.107380926012888\n",
      "Epoch 23 Loss: 2.10675815909259\n",
      "Epoch 24 Loss: 2.105317740047955\n",
      "Epoch 25 Loss: 2.104704157974369\n",
      "Epoch 26 Loss: 2.103552217963788\n",
      "Epoch 27 Loss: 2.103643615092284\n",
      "Epoch 28 Loss: 2.1034142854946247\n",
      "Epoch 29 Loss: 2.101842399834959\n",
      "Epoch 30 Loss: 2.102429695998729\n",
      "Epoch 31 Loss: 2.102045244596615\n",
      "Epoch 32 Loss: 2.100529114056688\n",
      "Epoch 33 Loss: 2.1014940153404083\n",
      "Epoch 34 Loss: 2.101402009907763\n",
      "Epoch 35 Loss: 2.1027034645144154\n",
      "Epoch 36 Loss: 2.1007142658923086\n",
      "Epoch 37 Loss: 2.1009372966208777\n",
      "Epoch 38 Loss: 2.1004729990708992\n",
      "Epoch 39 Loss: 2.100825767555578\n"
     ]
    }
   ],
   "source": [
    "lossi, ud = pytorchified.train(train_words)"
   ]
  },
  {
   "cell_type": "code",
   "execution_count": 8,
   "metadata": {},
   "outputs": [
    {
     "data": {
      "text/plain": [
       "[<matplotlib.lines.Line2D at 0x30ca82190>]"
      ]
     },
     "execution_count": 8,
     "metadata": {},
     "output_type": "execute_result"
    },
    {
     "data": {
      "image/png": "[encoded data removed]",
      "text/plain": [
       "<Figure size 640x480 with 1 Axes>"
      ]
     },
     "metadata": {},
     "output_type": "display_data"
    }
   ],
   "source": [
    "plt.plot(lossi)"
   ]
  },
  {
   "cell_type": "code",
   "execution_count": 9,
   "metadata": {},
   "outputs": [
    {
     "name": "stdout",
     "output_type": "stream",
     "text": [
      "2.1103482246398926\n",
      "2.105882406234741\n"
     ]
    }
   ],
   "source": [
    "print(pytorchified.evaluate(dev_words))\n",
    "print(pytorchified.evaluate(test_words))"
   ]
  },
  {
   "cell_type": "code",
   "execution_count": 10,
   "metadata": {},
   "outputs": [
    {
     "name": "stdout",
     "output_type": "stream",
     "text": [
      "gode\n",
      "girmin\n",
      "akel\n",
      "alson\n",
      "illity\n",
      "khalorian\n",
      "clini\n",
      "rairo\n",
      "knio\n",
      "demonalury\n",
      "laycitte\n",
      "nor\n",
      "deza\n",
      "jalik\n",
      "ladd\n",
      "zereasobelriya\n",
      "jeem\n",
      "alan\n",
      "amora\n",
      "oslyn\n"
     ]
    }
   ],
   "source": [
    "for _ in range(20):\n",
    "    print(pytorchified.forward())"
   ]
  }
 ],
 "metadata": {
  "kernelspec": {
   "display_name": "Python 3",
   "language": "python",
   "name": "python3"
  },
  "language_info": {
   "codemirror_mode": {
    "name": "ipython",
    "version": 3
   },
   "file_extension": ".py",
   "mimetype": "text/x-python",
   "name": "python",
   "nbconvert_exporter": "python",
   "pygments_lexer": "ipython3",
   "version": "3.11.7"
  }
 },
 "nbformat": 4,
 "nbformat_minor": 2
}
