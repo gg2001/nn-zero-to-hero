{
 "cells": [
  {
   "cell_type": "code",
   "execution_count": 1,
   "metadata": {},
   "outputs": [
    {
     "name": "stderr",
     "output_type": "stream",
     "text": [
      "Matplotlib is building the font cache; this may take a moment.\n"
     ]
    }
   ],
   "source": [
    "import torch\n",
    "import matplotlib.pyplot as plt\n",
    "import random\n",
    "from makemore import (\n",
    "    PytorchifiedBatchNorm,\n",
    "    Sequential,\n",
    "    load_words,\n",
    ")\n",
    "\n",
    "%matplotlib inline"
   ]
  },
  {
   "cell_type": "code",
   "execution_count": 2,
   "metadata": {},
   "outputs": [
    {
     "name": "stdout",
     "output_type": "stream",
     "text": [
      "32033\n",
      "15\n",
      "['emma', 'olivia', 'ava', 'isabella', 'sophia', 'charlotte', 'mia', 'amelia']\n"
     ]
    }
   ],
   "source": [
    "# read in all the words\n",
    "words = open(\"names.txt\", \"r\").read().splitlines()\n",
    "print(len(words))\n",
    "print(max(len(w) for w in words))\n",
    "print(words[:8])"
   ]
  },
  {
   "cell_type": "code",
   "execution_count": 3,
   "metadata": {},
   "outputs": [
    {
     "name": "stdout",
     "output_type": "stream",
     "text": [
      "{1: 'a', 2: 'b', 3: 'c', 4: 'd', 5: 'e', 6: 'f', 7: 'g', 8: 'h', 9: 'i', 10: 'j', 11: 'k', 12: 'l', 13: 'm', 14: 'n', 15: 'o', 16: 'p', 17: 'q', 18: 'r', 19: 's', 20: 't', 21: 'u', 22: 'v', 23: 'w', 24: 'x', 25: 'y', 26: 'z', 0: '.'}\n",
      "27\n"
     ]
    }
   ],
   "source": [
    "# build the vocabulary of characters and mappings to/from integers\n",
    "chars = sorted(list(set(\"\".join(words))))\n",
    "stoi = {s: i + 1 for i, s in enumerate(chars)}\n",
    "stoi[\".\"] = 0\n",
    "itos = {i: s for s, i in stoi.items()}\n",
    "vocab_size = len(itos)\n",
    "print(itos)\n",
    "print(vocab_size)"
   ]
  },
  {
   "cell_type": "code",
   "execution_count": 4,
   "metadata": {},
   "outputs": [
    {
     "name": "stdout",
     "output_type": "stream",
     "text": [
      "torch.Size([182625, 8]) torch.Size([182625])\n",
      "torch.Size([22655, 8]) torch.Size([22655])\n",
      "torch.Size([22866, 8]) torch.Size([22866])\n"
     ]
    }
   ],
   "source": [
    "# build the dataset\n",
    "block_size = (\n",
    "    8  # context length: how many characters do we take to predict the next one?\n",
    ")\n",
    "\n",
    "\n",
    "def build_dataset(words):\n",
    "    X, Y = [], []\n",
    "\n",
    "    for w in words:\n",
    "        context = [0] * block_size\n",
    "        for ch in w + \".\":\n",
    "            ix = stoi[ch]\n",
    "            X.append(context)\n",
    "            Y.append(ix)\n",
    "            context = context[1:] + [ix]  # crop and append\n",
    "\n",
    "    X = torch.tensor(X)\n",
    "    Y = torch.tensor(Y)\n",
    "    print(X.shape, Y.shape)\n",
    "    return X, Y\n",
    "\n",
    "\n",
    "random.seed(42)\n",
    "random.shuffle(words)\n",
    "n1 = int(0.8 * len(words))\n",
    "n2 = int(0.9 * len(words))\n",
    "\n",
    "Xtr, Ytr = build_dataset(words[:n1])  # 80%\n",
    "Xdev, Ydev = build_dataset(words[n1:n2])  # 10%\n",
    "Xte, Yte = build_dataset(words[n2:])  # 10%"
   ]
  },
  {
   "cell_type": "code",
   "execution_count": 5,
   "metadata": {},
   "outputs": [],
   "source": [
    "train_words, dev_words, test_words = load_words()"
   ]
  },
  {
   "cell_type": "code",
   "execution_count": 6,
   "metadata": {},
   "outputs": [],
   "source": [
    "pytorchified = PytorchifiedBatchNorm(\n",
    "    sizes=[68, 68, 68],\n",
    "    batchnorm_output=False,\n",
    "    block_size=block_size,\n",
    "    flatten_consecutive=True,\n",
    "    embedding_dim=24,\n",
    ")\n",
    "model = Sequential(pytorchified.layers)"
   ]
  },
  {
   "cell_type": "code",
   "execution_count": 7,
   "metadata": {},
   "outputs": [
    {
     "name": "stdout",
     "output_type": "stream",
     "text": [
      "Epoch 0 Loss: 2.2959253568778144\n",
      "Epoch 1 Loss: 2.17836209147996\n",
      "Epoch 2 Loss: 2.1399427611569726\n",
      "Epoch 3 Loss: 2.117500003335099\n",
      "Epoch 4 Loss: 2.0998536031023205\n",
      "Epoch 5 Loss: 2.0857459872328286\n",
      "Epoch 6 Loss: 2.0751202192865437\n",
      "Epoch 7 Loss: 2.0659326090062162\n",
      "Epoch 8 Loss: 2.058505205046317\n",
      "Epoch 9 Loss: 2.050249666681539\n",
      "Epoch 10 Loss: 2.045213696809793\n",
      "Epoch 11 Loss: 2.039077702667195\n",
      "Epoch 12 Loss: 2.032128158505077\n",
      "Epoch 13 Loss: 2.029985129446246\n",
      "Epoch 14 Loss: 2.0255462692837733\n",
      "Epoch 15 Loss: 2.021291264903652\n",
      "Epoch 16 Loss: 2.0182433749190714\n",
      "Epoch 17 Loss: 2.0151792424962194\n",
      "Epoch 18 Loss: 2.0115881734489243\n",
      "Epoch 19 Loss: 2.008140931716821\n",
      "Epoch 20 Loss: 2.0067954004637127\n",
      "Learning rate reduced to 0.01\n",
      "Epoch 21 Loss: 1.9583739011951613\n",
      "Epoch 22 Loss: 1.9503440227732782\n",
      "Epoch 23 Loss: 1.9465564661097958\n",
      "Epoch 24 Loss: 1.945420846727401\n",
      "Epoch 25 Loss: 1.9446463180981428\n",
      "Epoch 26 Loss: 1.9426078552906085\n",
      "Epoch 27 Loss: 1.941642823606693\n",
      "Epoch 28 Loss: 1.9414807071098426\n",
      "Epoch 29 Loss: 1.9415569059429179\n",
      "Epoch 30 Loss: 1.9409280880059374\n",
      "Epoch 31 Loss: 1.9401619036085962\n",
      "Epoch 32 Loss: 1.9398874375543629\n",
      "Epoch 33 Loss: 1.9381616858771693\n",
      "Epoch 34 Loss: 1.9377903035072344\n",
      "Epoch 35 Loss: 1.9373301239175993\n",
      "Epoch 36 Loss: 1.9386479450456091\n",
      "Epoch 37 Loss: 1.937680691831006\n",
      "Epoch 38 Loss: 1.935967739160949\n",
      "Epoch 39 Loss: 1.9360444865366475\n"
     ]
    }
   ],
   "source": [
    "lossi, ud = pytorchified.train(train_words)"
   ]
  },
  {
   "cell_type": "code",
   "execution_count": 8,
   "metadata": {},
   "outputs": [
    {
     "name": "stdout",
     "output_type": "stream",
     "text": [
      "Embedding : (21, 8, 24)\n",
      "FlattenConsecutive : (21, 4, 48)\n",
      "Linear : (21, 4, 68)\n",
      "BatchNorm1d : (21, 4, 68)\n",
      "Tanh : (21, 4, 68)\n",
      "FlattenConsecutive : (21, 2, 136)\n",
      "Linear : (21, 2, 68)\n",
      "BatchNorm1d : (21, 2, 68)\n",
      "Tanh : (21, 2, 68)\n",
      "FlattenConsecutive : (21, 136)\n",
      "Linear : (21, 68)\n",
      "BatchNorm1d : (21, 68)\n",
      "Tanh : (21, 68)\n",
      "Linear : (21, 27)\n"
     ]
    }
   ],
   "source": [
    "for layer in model.layers:\n",
    "    print(layer.__class__.__name__, \":\", tuple(layer.out.shape))"
   ]
  },
  {
   "cell_type": "code",
   "execution_count": 9,
   "metadata": {},
   "outputs": [
    {
     "data": {
      "text/plain": [
       "[<matplotlib.lines.Line2D at 0x11b616810>]"
      ]
     },
     "execution_count": 9,
     "metadata": {},
     "output_type": "execute_result"
    },
    {
     "data": {
      "image/png": "[encoded data removed]",
      "text/plain": [
       "<Figure size 640x480 with 1 Axes>"
      ]
     },
     "metadata": {},
     "output_type": "display_data"
    }
   ],
   "source": [
    "plt.plot(lossi)"
   ]
  },
  {
   "cell_type": "code",
   "execution_count": 10,
   "metadata": {},
   "outputs": [
    {
     "data": {
      "text/plain": [
       "[<matplotlib.lines.Line2D at 0x325313c20>]"
      ]
     },
     "execution_count": 10,
     "metadata": {},
     "output_type": "execute_result"
    },
    {
     "data": {
      "image/png": "[encoded data removed]",
      "text/plain": [
       "<Figure size 640x480 with 1 Axes>"
      ]
     },
     "metadata": {},
     "output_type": "display_data"
    }
   ],
   "source": [
    "plt.plot(torch.tensor(lossi).view(-1, 1390).mean(1))"
   ]
  },
  {
   "cell_type": "code",
   "execution_count": 11,
   "metadata": {},
   "outputs": [
    {
     "name": "stdout",
     "output_type": "stream",
     "text": [
      "1.896138310432434\n",
      "2.0118730068206787\n",
      "1.9943634271621704\n"
     ]
    }
   ],
   "source": [
    "print(pytorchified.evaluate(train_words))\n",
    "print(pytorchified.evaluate(dev_words))\n",
    "print(pytorchified.evaluate(test_words))"
   ]
  },
  {
   "cell_type": "code",
   "execution_count": 12,
   "metadata": {},
   "outputs": [
    {
     "name": "stdout",
     "output_type": "stream",
     "text": [
      "treng\n",
      "owin\n",
      "pailyn\n",
      "pameya\n",
      "adelynn\n",
      "eletse\n",
      "rolin\n",
      "mattison\n",
      "myiannah\n",
      "laman\n",
      "lamae\n",
      "calvi\n",
      "sarao\n",
      "wentanao\n",
      "sambie\n",
      "faelya\n",
      "gartoleia\n",
      "lora\n",
      "yoantarie\n",
      "sohowa\n"
     ]
    }
   ],
   "source": [
    "for _ in range(20):\n",
    "    print(pytorchified.forward())"
   ]
  },
  {
   "cell_type": "code",
   "execution_count": 13,
   "metadata": {},
   "outputs": [
    {
     "name": "stdout",
     "output_type": "stream",
     "text": [
      "torch.Size([4, 8])\n"
     ]
    },
    {
     "data": {
      "text/plain": [
       "tensor([[ 0,  0,  0,  0,  0,  0,  0,  0],\n",
       "        [ 0,  0, 19,  8,  5, 12, 12,  5],\n",
       "        [ 0,  0,  0,  0,  0,  0,  0, 11],\n",
       "        [ 0,  0,  0,  0, 19,  5, 12,  9]])"
      ]
     },
     "execution_count": 13,
     "metadata": {},
     "output_type": "execute_result"
    }
   ],
   "source": [
    "ix = torch.randint(0, Xtr.shape[0], (4,))\n",
    "Xb, Yb = Xtr[ix], Ytr[ix]\n",
    "logits = model(Xb)\n",
    "print(Xb.shape)\n",
    "Xb"
   ]
  },
  {
   "cell_type": "code",
   "execution_count": 14,
   "metadata": {},
   "outputs": [
    {
     "data": {
      "text/plain": [
       "torch.Size([4, 8, 24])"
      ]
     },
     "execution_count": 14,
     "metadata": {},
     "output_type": "execute_result"
    }
   ],
   "source": [
    "# Embedding layer\n",
    "model.layers[0].out.shape"
   ]
  },
  {
   "cell_type": "code",
   "execution_count": 15,
   "metadata": {},
   "outputs": [
    {
     "data": {
      "text/plain": [
       "torch.Size([4, 4, 48])"
      ]
     },
     "execution_count": 15,
     "metadata": {},
     "output_type": "execute_result"
    }
   ],
   "source": [
    "# Flatten layer\n",
    "model.layers[1].out.shape"
   ]
  },
  {
   "cell_type": "code",
   "execution_count": 16,
   "metadata": {},
   "outputs": [
    {
     "data": {
      "text/plain": [
       "torch.Size([4, 4, 68])"
      ]
     },
     "execution_count": 16,
     "metadata": {},
     "output_type": "execute_result"
    }
   ],
   "source": [
    "# Linear layer\n",
    "model.layers[2].out.shape"
   ]
  },
  {
   "cell_type": "code",
   "execution_count": 17,
   "metadata": {},
   "outputs": [
    {
     "data": {
      "text/plain": [
       "torch.Size([4, 200])"
      ]
     },
     "execution_count": 17,
     "metadata": {},
     "output_type": "execute_result"
    }
   ],
   "source": [
    "(torch.randn(4, 80) @ torch.randn(80, 200) + torch.randn(200)).shape"
   ]
  }
 ],
 "metadata": {
  "kernelspec": {
   "display_name": "Python 3",
   "language": "python",
   "name": "python3"
  },
  "language_info": {
   "codemirror_mode": {
    "name": "ipython",
    "version": 3
   },
   "file_extension": ".py",
   "mimetype": "text/x-python",
   "name": "python",
   "nbconvert_exporter": "python",
   "pygments_lexer": "ipython3",
   "version": "3.12.7"
  }
 },
 "nbformat": 4,
 "nbformat_minor": 2
}
