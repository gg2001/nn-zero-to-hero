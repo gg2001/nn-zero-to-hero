{
 "cells": [
  {
   "cell_type": "code",
   "execution_count": 1,
   "metadata": {},
   "outputs": [],
   "source": [
    "import torch\n",
    "import torch.nn.functional as F\n",
    "import matplotlib.pyplot as plt  # for making figures\n",
    "import random\n",
    "from makemore import (\n",
    "    PytorchifiedBatchNorm,\n",
    "    Sequential,\n",
    "    Embedding,\n",
    "    Flatten,\n",
    "    Linear,\n",
    "    Tanh,\n",
    "    BatchNorm1d,\n",
    "    load_words,\n",
    ")\n",
    "\n",
    "%matplotlib inline"
   ]
  },
  {
   "cell_type": "code",
   "execution_count": 2,
   "metadata": {},
   "outputs": [
    {
     "name": "stdout",
     "output_type": "stream",
     "text": [
      "32033\n",
      "15\n",
      "['emma', 'olivia', 'ava', 'isabella', 'sophia', 'charlotte', 'mia', 'amelia']\n"
     ]
    }
   ],
   "source": [
    "# read in all the words\n",
    "words = open(\"names.txt\", \"r\").read().splitlines()\n",
    "print(len(words))\n",
    "print(max(len(w) for w in words))\n",
    "print(words[:8])"
   ]
  },
  {
   "cell_type": "code",
   "execution_count": 3,
   "metadata": {},
   "outputs": [
    {
     "name": "stdout",
     "output_type": "stream",
     "text": [
      "{1: 'a', 2: 'b', 3: 'c', 4: 'd', 5: 'e', 6: 'f', 7: 'g', 8: 'h', 9: 'i', 10: 'j', 11: 'k', 12: 'l', 13: 'm', 14: 'n', 15: 'o', 16: 'p', 17: 'q', 18: 'r', 19: 's', 20: 't', 21: 'u', 22: 'v', 23: 'w', 24: 'x', 25: 'y', 26: 'z', 0: '.'}\n",
      "27\n"
     ]
    }
   ],
   "source": [
    "# build the vocabulary of characters and mappings to/from integers\n",
    "chars = sorted(list(set(\"\".join(words))))\n",
    "stoi = {s: i + 1 for i, s in enumerate(chars)}\n",
    "stoi[\".\"] = 0\n",
    "itos = {i: s for s, i in stoi.items()}\n",
    "vocab_size = len(itos)\n",
    "print(itos)\n",
    "print(vocab_size)"
   ]
  },
  {
   "cell_type": "code",
   "execution_count": 4,
   "metadata": {},
   "outputs": [
    {
     "name": "stdout",
     "output_type": "stream",
     "text": [
      "torch.Size([182625, 8]) torch.Size([182625])\n",
      "torch.Size([22655, 8]) torch.Size([22655])\n",
      "torch.Size([22866, 8]) torch.Size([22866])\n"
     ]
    }
   ],
   "source": [
    "# build the dataset\n",
    "block_size = (\n",
    "    8  # context length: how many characters do we take to predict the next one?\n",
    ")\n",
    "\n",
    "\n",
    "def build_dataset(words):\n",
    "    X, Y = [], []\n",
    "\n",
    "    for w in words:\n",
    "        context = [0] * block_size\n",
    "        for ch in w + \".\":\n",
    "            ix = stoi[ch]\n",
    "            X.append(context)\n",
    "            Y.append(ix)\n",
    "            context = context[1:] + [ix]  # crop and append\n",
    "\n",
    "    X = torch.tensor(X)\n",
    "    Y = torch.tensor(Y)\n",
    "    print(X.shape, Y.shape)\n",
    "    return X, Y\n",
    "\n",
    "\n",
    "random.seed(42)\n",
    "random.shuffle(words)\n",
    "n1 = int(0.8 * len(words))\n",
    "n2 = int(0.9 * len(words))\n",
    "\n",
    "Xtr, Ytr = build_dataset(words[:n1])  # 80%\n",
    "Xdev, Ydev = build_dataset(words[n1:n2])  # 10%\n",
    "Xte, Yte = build_dataset(words[n2:])  # 10%"
   ]
  },
  {
   "cell_type": "code",
   "execution_count": 5,
   "metadata": {},
   "outputs": [],
   "source": [
    "train_words, dev_words, test_words = load_words()"
   ]
  },
  {
   "cell_type": "code",
   "execution_count": 9,
   "metadata": {},
   "outputs": [],
   "source": [
    "pytorchified = PytorchifiedBatchNorm(\n",
    "    sizes=[68, 68, 68],\n",
    "    batchnorm_output=False,\n",
    "    block_size=block_size,\n",
    "    flatten_consecutive=True,\n",
    ")\n",
    "model = Sequential(pytorchified.layers)"
   ]
  },
  {
   "cell_type": "code",
   "execution_count": 11,
   "metadata": {},
   "outputs": [
    {
     "name": "stdout",
     "output_type": "stream",
     "text": [
      "Epoch 0 Loss: 2.3193119174661416\n",
      "Epoch 1 Loss: 2.1993339342660163\n",
      "Epoch 2 Loss: 2.1611921022724405\n",
      "Epoch 3 Loss: 2.1376125380582485\n",
      "Epoch 4 Loss: 2.1196265277537907\n",
      "Epoch 5 Loss: 2.106169133316866\n",
      "Epoch 6 Loss: 2.0946456141839174\n",
      "Epoch 7 Loss: 2.0847935071638286\n",
      "Epoch 8 Loss: 2.077530547639198\n",
      "Epoch 9 Loss: 2.0701855431106724\n",
      "Epoch 10 Loss: 2.064427415055755\n",
      "Epoch 11 Loss: 2.058994160846443\n",
      "Epoch 12 Loss: 2.0530269218340402\n",
      "Epoch 13 Loss: 2.0480684442966943\n",
      "Epoch 14 Loss: 2.0446496058355446\n",
      "Epoch 15 Loss: 2.039637278770016\n",
      "Epoch 16 Loss: 2.0375574531628806\n",
      "Epoch 17 Loss: 2.0334267123244607\n",
      "Epoch 18 Loss: 2.0321617572009303\n",
      "Epoch 19 Loss: 2.027456595387704\n",
      "Epoch 20 Loss: 2.0252285187736816\n",
      "Learning rate reduced to 0.01\n",
      "Epoch 21 Loss: 1.9771460622711168\n",
      "Epoch 22 Loss: 1.9685672857527525\n",
      "Epoch 23 Loss: 1.9668832037988138\n",
      "Epoch 24 Loss: 1.9668581102956573\n",
      "Epoch 25 Loss: 1.9641135364148592\n",
      "Epoch 26 Loss: 1.963962703300037\n",
      "Epoch 27 Loss: 1.9640535976117401\n",
      "Epoch 28 Loss: 1.9624571862566322\n",
      "Epoch 29 Loss: 1.9622849585780304\n",
      "Epoch 30 Loss: 1.9609958980350792\n",
      "Epoch 31 Loss: 1.9620589950373768\n",
      "Epoch 32 Loss: 1.9602476494377967\n",
      "Epoch 33 Loss: 1.9601642577182536\n",
      "Epoch 34 Loss: 1.9602033541398751\n",
      "Epoch 35 Loss: 1.958016289725892\n",
      "Epoch 36 Loss: 1.9584545687136472\n",
      "Epoch 37 Loss: 1.958600205608702\n",
      "Epoch 38 Loss: 1.957399361697095\n",
      "Epoch 39 Loss: 1.9567869841205299\n"
     ]
    }
   ],
   "source": [
    "lossi, ud = pytorchified.train(train_words)"
   ]
  },
  {
   "cell_type": "code",
   "execution_count": 12,
   "metadata": {},
   "outputs": [
    {
     "name": "stdout",
     "output_type": "stream",
     "text": [
      "Embedding : (21, 8, 10)\n",
      "FlattenConsecutive : (21, 4, 20)\n",
      "Linear : (21, 4, 68)\n",
      "BatchNorm1d : (21, 4, 68)\n",
      "Tanh : (21, 4, 68)\n",
      "FlattenConsecutive : (21, 2, 136)\n",
      "Linear : (21, 2, 68)\n",
      "BatchNorm1d : (21, 2, 68)\n",
      "Tanh : (21, 2, 68)\n",
      "FlattenConsecutive : (21, 136)\n",
      "Linear : (21, 68)\n",
      "BatchNorm1d : (21, 68)\n",
      "Tanh : (21, 68)\n",
      "Linear : (21, 27)\n"
     ]
    }
   ],
   "source": [
    "for layer in model.layers:\n",
    "    print(layer.__class__.__name__, \":\", tuple(layer.out.shape))"
   ]
  },
  {
   "cell_type": "code",
   "execution_count": 13,
   "metadata": {},
   "outputs": [
    {
     "data": {
      "text/plain": [
       "[<matplotlib.lines.Line2D at 0x16df06f90>]"
      ]
     },
     "execution_count": 13,
     "metadata": {},
     "output_type": "execute_result"
    },
    {
     "data": {
      "image/png": "[encoded data removed]",
      "text/plain": [
       "<Figure size 640x480 with 1 Axes>"
      ]
     },
     "metadata": {},
     "output_type": "display_data"
    }
   ],
   "source": [
    "plt.plot(lossi)"
   ]
  },
  {
   "cell_type": "code",
   "execution_count": 14,
   "metadata": {},
   "outputs": [
    {
     "data": {
      "text/plain": [
       "[<matplotlib.lines.Line2D at 0x317df2750>]"
      ]
     },
     "execution_count": 14,
     "metadata": {},
     "output_type": "execute_result"
    },
    {
     "data": {
      "image/png": "[encoded data removed]",
      "text/plain": [
       "<Figure size 640x480 with 1 Axes>"
      ]
     },
     "metadata": {},
     "output_type": "display_data"
    }
   ],
   "source": [
    "plt.plot(torch.tensor(lossi).view(-1, 1390).mean(1))"
   ]
  },
  {
   "cell_type": "code",
   "execution_count": 15,
   "metadata": {},
   "outputs": [
    {
     "name": "stdout",
     "output_type": "stream",
     "text": [
      "1.918506145477295\n",
      "2.0193910598754883\n",
      "2.008430242538452\n"
     ]
    }
   ],
   "source": [
    "print(pytorchified.evaluate(train_words))\n",
    "print(pytorchified.evaluate(dev_words))\n",
    "print(pytorchified.evaluate(test_words))"
   ]
  },
  {
   "cell_type": "code",
   "execution_count": 16,
   "metadata": {},
   "outputs": [
    {
     "name": "stdout",
     "output_type": "stream",
     "text": [
      "luddyn\n",
      "auquancarlo\n",
      "kenmi\n",
      "avetsa\n",
      "yusaro\n",
      "izabelle\n",
      "ashtie\n",
      "donnedy\n",
      "seevon\n",
      "davyanni\n",
      "ihmika\n",
      "raquard\n",
      "zailani\n",
      "shamari\n",
      "oureeson\n",
      "rayge\n",
      "keeda\n",
      "uge\n",
      "safieyla\n",
      "kalaunie\n"
     ]
    }
   ],
   "source": [
    "for _ in range(20):\n",
    "    print(pytorchified.forward())"
   ]
  },
  {
   "cell_type": "code",
   "execution_count": null,
   "metadata": {},
   "outputs": [
    {
     "name": "stdout",
     "output_type": "stream",
     "text": [
      "torch.Size([4, 8])\n"
     ]
    },
    {
     "data": {
      "text/plain": [
       "tensor([[ 0, 16, 18, 21,  4,  5, 14,  3],\n",
       "        [ 0,  8, 15, 19,  1, 14, 14,  1],\n",
       "        [ 0,  0, 25,  5,  3,  8,  9,  5],\n",
       "        [ 0,  0,  0,  0,  0,  0,  0,  0]])"
      ]
     },
     "execution_count": 12,
     "metadata": {},
     "output_type": "execute_result"
    }
   ],
   "source": [
    "ix = torch.randint(0, Xtr.shape[0], (4,))\n",
    "Xb, Yb = Xtr[ix], Ytr[ix]\n",
    "logits = model(Xb)\n",
    "print(Xb.shape)\n",
    "Xb"
   ]
  },
  {
   "cell_type": "code",
   "execution_count": null,
   "metadata": {},
   "outputs": [
    {
     "data": {
      "text/plain": [
       "torch.Size([4, 8, 10])"
      ]
     },
     "execution_count": 13,
     "metadata": {},
     "output_type": "execute_result"
    }
   ],
   "source": [
    "# Embedding layer\n",
    "model.layers[0].out.shape"
   ]
  },
  {
   "cell_type": "code",
   "execution_count": null,
   "metadata": {},
   "outputs": [
    {
     "data": {
      "text/plain": [
       "torch.Size([4, 80])"
      ]
     },
     "execution_count": 14,
     "metadata": {},
     "output_type": "execute_result"
    }
   ],
   "source": [
    "# Flatten layer\n",
    "model.layers[1].out.shape"
   ]
  },
  {
   "cell_type": "code",
   "execution_count": null,
   "metadata": {},
   "outputs": [
    {
     "data": {
      "text/plain": [
       "torch.Size([4, 200])"
      ]
     },
     "execution_count": 15,
     "metadata": {},
     "output_type": "execute_result"
    }
   ],
   "source": [
    "# Linear layer\n",
    "model.layers[2].out.shape"
   ]
  },
  {
   "cell_type": "code",
   "execution_count": null,
   "metadata": {},
   "outputs": [
    {
     "data": {
      "text/plain": [
       "torch.Size([4, 200])"
      ]
     },
     "execution_count": 16,
     "metadata": {},
     "output_type": "execute_result"
    }
   ],
   "source": [
    "(torch.randn(4, 80) @ torch.randn(80, 200) + torch.randn(200)).shape"
   ]
  }
 ],
 "metadata": {
  "kernelspec": {
   "display_name": "Python 3",
   "language": "python",
   "name": "python3"
  },
  "language_info": {
   "codemirror_mode": {
    "name": "ipython",
    "version": 3
   },
   "file_extension": ".py",
   "mimetype": "text/x-python",
   "name": "python",
   "nbconvert_exporter": "python",
   "pygments_lexer": "ipython3",
   "version": "3.11.7"
  }
 },
 "nbformat": 4,
 "nbformat_minor": 2
}
