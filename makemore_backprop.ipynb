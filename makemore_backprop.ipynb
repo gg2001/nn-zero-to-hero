{
  "cells": [
    {
      "cell_type": "markdown",
      "metadata": {
        "id": "rToK0Tku8PPn"
      },
      "source": [
        "## makemore: becoming a backprop ninja"
      ]
    },
    {
      "cell_type": "code",
      "execution_count": 11,
      "metadata": {
        "id": "8sFElPqq8PPp"
      },
      "outputs": [],
      "source": [
        "# there no change change in the first several cells from last lecture"
      ]
    },
    {
      "cell_type": "code",
      "execution_count": 168,
      "metadata": {
        "id": "ChBbac4y8PPq"
      },
      "outputs": [],
      "source": [
        "import torch\n",
        "import torch.nn.functional as F\n",
        "import matplotlib.pyplot as plt  # for making figures\n",
        "import random\n",
        "\n",
        "%matplotlib inline"
      ]
    },
    {
      "cell_type": "code",
      "execution_count": 6,
      "metadata": {
        "id": "klmu3ZG08PPr"
      },
      "outputs": [
        {
          "name": "stdout",
          "output_type": "stream",
          "text": [
            "32033\n",
            "15\n",
            "['emma', 'olivia', 'ava', 'isabella', 'sophia', 'charlotte', 'mia', 'amelia']\n"
          ]
        }
      ],
      "source": [
        "# read in all the words\n",
        "words = open(\"names.txt\", \"r\").read().splitlines()\n",
        "print(len(words))\n",
        "print(max(len(w) for w in words))\n",
        "print(words[:8])"
      ]
    },
    {
      "cell_type": "code",
      "execution_count": 169,
      "metadata": {
        "id": "BCQomLE_8PPs"
      },
      "outputs": [
        {
          "name": "stdout",
          "output_type": "stream",
          "text": [
            "{1: 'a', 2: 'b', 3: 'c', 4: 'd', 5: 'e', 6: 'f', 7: 'g', 8: 'h', 9: 'i', 10: 'j', 11: 'k', 12: 'l', 13: 'm', 14: 'n', 15: 'o', 16: 'p', 17: 'q', 18: 'r', 19: 's', 20: 't', 21: 'u', 22: 'v', 23: 'w', 24: 'x', 25: 'y', 26: 'z', 0: '.'}\n",
            "27\n"
          ]
        }
      ],
      "source": [
        "# build the vocabulary of characters and mappings to/from integers\n",
        "chars = sorted(list(set(\"\".join(words))))\n",
        "stoi = {s: i + 1 for i, s in enumerate(chars)}\n",
        "stoi[\".\"] = 0\n",
        "itos = {i: s for s, i in stoi.items()}\n",
        "vocab_size = len(itos)\n",
        "print(itos)\n",
        "print(vocab_size)"
      ]
    },
    {
      "cell_type": "code",
      "execution_count": 170,
      "metadata": {
        "id": "V_zt2QHr8PPs"
      },
      "outputs": [
        {
          "name": "stdout",
          "output_type": "stream",
          "text": [
            "torch.Size([182437, 3]) torch.Size([182437])\n",
            "torch.Size([22781, 3]) torch.Size([22781])\n",
            "torch.Size([22928, 3]) torch.Size([22928])\n"
          ]
        }
      ],
      "source": [
        "# build the dataset\n",
        "block_size = (\n",
        "    3  # context length: how many characters do we take to predict the next one?\n",
        ")\n",
        "\n",
        "\n",
        "def build_dataset(words):\n",
        "    X, Y = [], []\n",
        "\n",
        "    for w in words:\n",
        "        context = [0] * block_size\n",
        "        for ch in w + \".\":\n",
        "            ix = stoi[ch]\n",
        "            X.append(context)\n",
        "            Y.append(ix)\n",
        "            context = context[1:] + [ix]  # crop and append\n",
        "\n",
        "    X = torch.tensor(X)\n",
        "    Y = torch.tensor(Y)\n",
        "    print(X.shape, Y.shape)\n",
        "    return X, Y\n",
        "\n",
        "\n",
        "random.seed(42)\n",
        "random.shuffle(words)\n",
        "n1 = int(0.8 * len(words))\n",
        "n2 = int(0.9 * len(words))\n",
        "\n",
        "Xtr, Ytr = build_dataset(words[:n1])  # 80%\n",
        "Xdev, Ydev = build_dataset(words[n1:n2])  # 10%\n",
        "Xte, Yte = build_dataset(words[n2:])  # 10%"
      ]
    },
    {
      "cell_type": "code",
      "execution_count": 10,
      "metadata": {
        "id": "eg20-vsg8PPt"
      },
      "outputs": [],
      "source": [
        "# ok biolerplate done, now we get to the action:"
      ]
    },
    {
      "cell_type": "code",
      "execution_count": 12,
      "metadata": {
        "id": "MJPU8HT08PPu"
      },
      "outputs": [],
      "source": [
        "# utility function we will use later when comparing manual gradients to PyTorch gradients\n",
        "def cmp(s, dt, t):\n",
        "    ex = torch.all(dt == t.grad).item()\n",
        "    app = torch.allclose(dt, t.grad)\n",
        "    maxdiff = (dt - t.grad).abs().max().item()\n",
        "    print(\n",
        "        f\"{s:15s} | exact: {str(ex):5s} | approximate: {str(app):5s} | maxdiff: {maxdiff}\"\n",
        "    )"
      ]
    },
    {
      "cell_type": "code",
      "execution_count": 171,
      "metadata": {
        "id": "ZlFLjQyT8PPu"
      },
      "outputs": [
        {
          "name": "stdout",
          "output_type": "stream",
          "text": [
            "4137\n"
          ]
        }
      ],
      "source": [
        "n_embd = 10  # the dimensionality of the character embedding vectors\n",
        "n_hidden = 64  # the number of neurons in the hidden layer of the MLP\n",
        "\n",
        "g = torch.Generator().manual_seed(2147483647)  # for reproducibility\n",
        "C = torch.randn((vocab_size, n_embd), generator=g)\n",
        "# Layer 1\n",
        "W1 = (\n",
        "    torch.randn((n_embd * block_size, n_hidden), generator=g)\n",
        "    * (5 / 3)\n",
        "    / ((n_embd * block_size) ** 0.5)\n",
        ")\n",
        "b1 = (\n",
        "    torch.randn(n_hidden, generator=g) * 0.1\n",
        ")  # using b1 just for fun, it's useless because of BN\n",
        "# Layer 2\n",
        "W2 = torch.randn((n_hidden, vocab_size), generator=g) * 0.1\n",
        "b2 = torch.randn(vocab_size, generator=g) * 0.1\n",
        "# BatchNorm parameters\n",
        "bngain = torch.randn((1, n_hidden)) * 0.1 + 1.0\n",
        "bnbias = torch.randn((1, n_hidden)) * 0.1\n",
        "\n",
        "# Note: I am initializating many of these parameters in non-standard ways\n",
        "# because sometimes initializating with e.g. all zeros could mask an incorrect\n",
        "# implementation of the backward pass.\n",
        "\n",
        "parameters = [C, W1, b1, W2, b2, bngain, bnbias]\n",
        "print(sum(p.nelement() for p in parameters))  # number of parameters in total\n",
        "for p in parameters:\n",
        "    p.requires_grad = True"
      ]
    },
    {
      "cell_type": "code",
      "execution_count": 172,
      "metadata": {
        "id": "QY-y96Y48PPv"
      },
      "outputs": [],
      "source": [
        "batch_size = 32\n",
        "n = batch_size  # a shorter variable also, for convenience\n",
        "# construct a minibatch\n",
        "ix = torch.randint(0, Xtr.shape[0], (batch_size,), generator=g)\n",
        "Xb, Yb = Xtr[ix], Ytr[ix]  # batch X,Y"
      ]
    },
    {
      "cell_type": "code",
      "execution_count": 173,
      "metadata": {
        "id": "8ofj1s6d8PPv"
      },
      "outputs": [
        {
          "data": {
            "text/plain": [
              "tensor(3.5281, grad_fn=<NegBackward0>)"
            ]
          },
          "execution_count": 173,
          "metadata": {},
          "output_type": "execute_result"
        }
      ],
      "source": [
        "# forward pass, \"chunkated\" into smaller steps that are possible to backward one at a time\n",
        "\n",
        "emb = C[Xb]  # embed the characters into vectors\n",
        "embcat = emb.view(emb.shape[0], -1)  # concatenate the vectors\n",
        "# Linear layer 1\n",
        "hprebn = embcat @ W1 + b1  # hidden layer pre-activation\n",
        "# BatchNorm layer\n",
        "bnmeani = 1 / n * hprebn.sum(0, keepdim=True)\n",
        "bndiff = hprebn - bnmeani\n",
        "bndiff2 = bndiff**2\n",
        "bnvar = (\n",
        "    1 / (n - 1) * (bndiff2).sum(0, keepdim=True)\n",
        ")  # note: Bessel's correction (dividing by n-1, not n)\n",
        "bnvar_inv = (bnvar + 1e-5) ** -0.5\n",
        "bnraw = bndiff * bnvar_inv\n",
        "hpreact = bngain * bnraw + bnbias\n",
        "# Non-linearity\n",
        "h = torch.tanh(hpreact)  # hidden layer\n",
        "# Linear layer 2\n",
        "logits = h @ W2 + b2  # output layer\n",
        "# cross entropy loss (same as F.cross_entropy(logits, Yb))\n",
        "logit_maxes = logits.max(1, keepdim=True).values\n",
        "norm_logits = logits - logit_maxes  # subtract max for numerical stability\n",
        "counts = norm_logits.exp()\n",
        "counts_sum = counts.sum(1, keepdims=True)\n",
        "counts_sum_inv = (\n",
        "    counts_sum**-1\n",
        ")  # if I use (1.0 / counts_sum) instead then I can't get backprop to be bit exact...\n",
        "probs = counts * counts_sum_inv\n",
        "logprobs = probs.log()\n",
        "loss = -logprobs[range(n), Yb].mean()\n",
        "\n",
        "# PyTorch backward pass\n",
        "for p in parameters:\n",
        "    p.grad = None\n",
        "for t in [\n",
        "    logprobs,\n",
        "    probs,\n",
        "    counts,\n",
        "    counts_sum,\n",
        "    counts_sum_inv,  # afaik there is no cleaner way\n",
        "    norm_logits,\n",
        "    logit_maxes,\n",
        "    logits,\n",
        "    h,\n",
        "    hpreact,\n",
        "    bnraw,\n",
        "    bnvar_inv,\n",
        "    bnvar,\n",
        "    bndiff2,\n",
        "    bndiff,\n",
        "    hprebn,\n",
        "    bnmeani,\n",
        "    embcat,\n",
        "    emb,\n",
        "]:\n",
        "    t.retain_grad()\n",
        "loss.backward()\n",
        "loss"
      ]
    },
    {
      "cell_type": "code",
      "execution_count": 487,
      "metadata": {
        "id": "mO-8aqxK8PPw"
      },
      "outputs": [
        {
          "name": "stdout",
          "output_type": "stream",
          "text": [
            "logprobs        | exact: True  | approximate: True  | maxdiff: 0.0\n",
            "probs           | exact: True  | approximate: True  | maxdiff: 0.0\n",
            "counts_sum_inv  | exact: True  | approximate: True  | maxdiff: 0.0\n",
            "counts_sum      | exact: True  | approximate: True  | maxdiff: 0.0\n",
            "counts          | exact: True  | approximate: True  | maxdiff: 0.0\n",
            "norm_logits     | exact: True  | approximate: True  | maxdiff: 0.0\n",
            "logit_maxes     | exact: True  | approximate: True  | maxdiff: 0.0\n",
            "logits          | exact: True  | approximate: True  | maxdiff: 0.0\n",
            "h               | exact: True  | approximate: True  | maxdiff: 0.0\n",
            "W2              | exact: True  | approximate: True  | maxdiff: 0.0\n",
            "b2              | exact: True  | approximate: True  | maxdiff: 0.0\n",
            "hpreact         | exact: True  | approximate: True  | maxdiff: 0.0\n",
            "bngain          | exact: True  | approximate: True  | maxdiff: 0.0\n",
            "bnbias          | exact: True  | approximate: True  | maxdiff: 0.0\n",
            "bnraw           | exact: True  | approximate: True  | maxdiff: 0.0\n",
            "bnvar_inv       | exact: True  | approximate: True  | maxdiff: 0.0\n",
            "bnvar           | exact: True  | approximate: True  | maxdiff: 0.0\n",
            "bndiff2         | exact: True  | approximate: True  | maxdiff: 0.0\n",
            "bndiff          | exact: True  | approximate: True  | maxdiff: 0.0\n",
            "bnmeani         | exact: True  | approximate: True  | maxdiff: 0.0\n",
            "hprebn          | exact: True  | approximate: True  | maxdiff: 0.0\n",
            "embcat          | exact: True  | approximate: True  | maxdiff: 0.0\n",
            "W1              | exact: True  | approximate: True  | maxdiff: 0.0\n",
            "b1              | exact: True  | approximate: True  | maxdiff: 0.0\n",
            "emb             | exact: True  | approximate: True  | maxdiff: 0.0\n",
            "C               | exact: True  | approximate: True  | maxdiff: 0.0\n"
          ]
        }
      ],
      "source": [
        "# Exercise 1: backprop through the whole thing manually,\n",
        "# backpropagating through exactly all of the variables\n",
        "# as they are defined in the forward pass above, one by one\n",
        "\n",
        "dlogprobs = torch.zeros(probs.shape)\n",
        "dlogprobs[range(n), Yb] = -1 / probs.shape[0]\n",
        "\n",
        "dprobs = dlogprobs * (probs**-1)\n",
        "\n",
        "dcounts_sum_inv = (dprobs * counts).sum(1, keepdim=True)\n",
        "\n",
        "dcounts_sum = dcounts_sum_inv * -(counts_sum**-2)\n",
        "\n",
        "dcounts = (dprobs * counts_sum_inv) + dcounts_sum\n",
        "\n",
        "dnorm_logits = dcounts * norm_logits.exp()\n",
        "\n",
        "dlogit_maxes = (-dnorm_logits).sum(1, keepdim=True)\n",
        "\n",
        "dlogits = dnorm_logits.clone()\n",
        "# Alternatively one hot encoding can be used\n",
        "# dlogits += F.one_hot(logits.max(1).indices, num_classes=logits.shape[1]) * dlogit_maxes\n",
        "dlogits[\n",
        "    torch.arange(dnorm_logits.size(0)).view(-1, 1), logits.max(1, keepdim=True).indices\n",
        "] += dlogit_maxes\n",
        "\n",
        "dh = dlogits @ W2.T\n",
        "\n",
        "dW2 = h.T @ dlogits\n",
        "\n",
        "db2 = dlogits.sum(0)\n",
        "\n",
        "dhpreact = dh * (1 - torch.tanh(hpreact) ** 2)\n",
        "\n",
        "dbngain = (dhpreact * bnraw).sum(0, keepdim=True)\n",
        "\n",
        "dbnbias = dhpreact.sum(0, keepdim=True)\n",
        "\n",
        "dbnraw = dhpreact * bngain\n",
        "\n",
        "dbnvar_inv = (dbnraw * bndiff).sum(0, keepdim=True)\n",
        "\n",
        "dbnvar = dbnvar_inv * (-0.5 * (bnvar + 1e-5) ** -1.5)\n",
        "\n",
        "dbndiff2 = dbnvar * torch.ones_like(bndiff2) * (1 / (n - 1))\n",
        "\n",
        "dbndiff = (dbndiff2 * 2 * bndiff) + (dbnraw * bnvar_inv)\n",
        "\n",
        "dbnmeani = (-dbndiff).sum(0, keepdim=True)\n",
        "\n",
        "dhprebn = dbndiff + (dbnmeani * torch.ones_like(hprebn) * (1 / n))\n",
        "\n",
        "dembcat = dhprebn @ W1.T\n",
        "\n",
        "dW1 = embcat.T @ dhprebn\n",
        "\n",
        "db1 = dhprebn.sum(0)\n",
        "\n",
        "demb = dembcat.view(-1, emb.shape[1], emb.shape[2])\n",
        "\n",
        "dC = torch.zeros_like(C)\n",
        "for i in range(Xb.shape[0]):\n",
        "    for j in range(Xb.shape[1]):\n",
        "        dC[Xb[i, j]] += demb[i, j]\n",
        "\n",
        "cmp(\"logprobs\", dlogprobs, logprobs)\n",
        "cmp(\"probs\", dprobs, probs)\n",
        "cmp(\"counts_sum_inv\", dcounts_sum_inv, counts_sum_inv)\n",
        "cmp(\"counts_sum\", dcounts_sum, counts_sum)\n",
        "cmp(\"counts\", dcounts, counts)\n",
        "cmp(\"norm_logits\", dnorm_logits, norm_logits)\n",
        "cmp(\"logit_maxes\", dlogit_maxes, logit_maxes)\n",
        "cmp(\"logits\", dlogits, logits)\n",
        "cmp(\"h\", dh, h)\n",
        "cmp(\"W2\", dW2, W2)\n",
        "cmp(\"b2\", db2, b2)\n",
        "cmp(\"hpreact\", dhpreact, hpreact)\n",
        "cmp(\"bngain\", dbngain, bngain)\n",
        "cmp(\"bnbias\", dbnbias, bnbias)\n",
        "cmp(\"bnraw\", dbnraw, bnraw)\n",
        "cmp(\"bnvar_inv\", dbnvar_inv, bnvar_inv)\n",
        "cmp(\"bnvar\", dbnvar, bnvar)\n",
        "cmp(\"bndiff2\", dbndiff2, bndiff2)\n",
        "cmp(\"bndiff\", dbndiff, bndiff)\n",
        "cmp(\"bnmeani\", dbnmeani, bnmeani)\n",
        "cmp(\"hprebn\", dhprebn, hprebn)\n",
        "cmp(\"embcat\", dembcat, embcat)\n",
        "cmp(\"W1\", dW1, W1)\n",
        "cmp(\"b1\", db1, b1)\n",
        "cmp(\"emb\", demb, emb)\n",
        "cmp(\"C\", dC, C)"
      ]
    },
    {
      "cell_type": "code",
      "execution_count": 482,
      "metadata": {
        "id": "ebLtYji_8PPw"
      },
      "outputs": [
        {
          "name": "stdout",
          "output_type": "stream",
          "text": [
            "3.5280957221984863 diff: 0.0\n"
          ]
        }
      ],
      "source": [
        "# Exercise 2: backprop through cross_entropy but all in one go\n",
        "# to complete this challenge look at the mathematical expression of the loss,\n",
        "# take the derivative, simplify the expression, and just write it out\n",
        "\n",
        "# forward pass\n",
        "\n",
        "# before:\n",
        "# logit_maxes = logits.max(1, keepdim=True).values\n",
        "# norm_logits = logits - logit_maxes # subtract max for numerical stability\n",
        "# counts = norm_logits.exp()\n",
        "# counts_sum = counts.sum(1, keepdims=True)\n",
        "# counts_sum_inv = counts_sum**-1 # if I use (1.0 / counts_sum) instead then I can't get backprop to be bit exact...\n",
        "# probs = counts * counts_sum_inv\n",
        "# logprobs = probs.log()\n",
        "# loss = -logprobs[range(n), Yb].mean()\n",
        "\n",
        "# now:\n",
        "loss_fast = F.cross_entropy(logits, Yb)\n",
        "print(loss_fast.item(), \"diff:\", (loss_fast - loss).item())"
      ]
    },
    {
      "cell_type": "code",
      "execution_count": 484,
      "metadata": {},
      "outputs": [
        {
          "data": {
            "text/plain": [
              "tensor(3.5281, grad_fn=<NegBackward0>)"
            ]
          },
          "execution_count": 484,
          "metadata": {},
          "output_type": "execute_result"
        }
      ],
      "source": [
        "# -mean(ln(softmax(logits)))\n",
        "-(\n",
        "    (logits - logits.max(1, keepdim=True).values).exp()\n",
        "    * (logits - logits.max(1, keepdim=True).values).exp().sum(1, keepdims=True) ** -1\n",
        ").log()[range(n), Yb].mean()"
      ]
    },
    {
      "cell_type": "code",
      "execution_count": 521,
      "metadata": {
        "id": "-gCXbB4C8PPx"
      },
      "outputs": [
        {
          "name": "stdout",
          "output_type": "stream",
          "text": [
            "logits          | exact: False | approximate: True  | maxdiff: 7.450580596923828e-09\n"
          ]
        }
      ],
      "source": [
        "# backward pass\n",
        "\n",
        "# -----------------\n",
        "# (softmax(logits_i) - 1_i) / n\n",
        "dlogits = (logits - logits.max(1, keepdim=True).values).exp() * (\n",
        "    logits - logits.max(1, keepdim=True).values\n",
        ").exp().sum(1, keepdims=True) ** -1  # F.softmax(logits, 1)\n",
        "dlogits[range(n), Yb] -= 1\n",
        "dlogits /= n\n",
        "# -----------------\n",
        "\n",
        "cmp(\n",
        "    \"logits\", dlogits, logits\n",
        ")  # I can only get approximate to be true, my maxdiff is 6e-9"
      ]
    },
    {
      "cell_type": "code",
      "execution_count": 522,
      "metadata": {
        "id": "hd-MkhB68PPy"
      },
      "outputs": [
        {
          "name": "stdout",
          "output_type": "stream",
          "text": [
            "max diff: tensor(4.7684e-07, grad_fn=<MaxBackward1>)\n"
          ]
        }
      ],
      "source": [
        "# Exercise 3: backprop through batchnorm but all in one go\n",
        "# to complete this challenge look at the mathematical expression of the output of batchnorm,\n",
        "# take the derivative w.r.t. its input, simplify the expression, and just write it out\n",
        "# BatchNorm paper: https://arxiv.org/abs/1502.03167\n",
        "\n",
        "# forward pass\n",
        "\n",
        "# before:\n",
        "# bnmeani = 1/n*hprebn.sum(0, keepdim=True)\n",
        "# bndiff = hprebn - bnmeani\n",
        "# bndiff2 = bndiff**2\n",
        "# bnvar = 1/(n-1)*(bndiff2).sum(0, keepdim=True) # note: Bessel's correction (dividing by n-1, not n)\n",
        "# bnvar_inv = (bnvar + 1e-5)**-0.5\n",
        "# bnraw = bndiff * bnvar_inv\n",
        "# hpreact = bngain * bnraw + bnbias\n",
        "\n",
        "# now:\n",
        "hpreact_fast = (\n",
        "    bngain\n",
        "    * (hprebn - hprebn.mean(0, keepdim=True))\n",
        "    / torch.sqrt(hprebn.var(0, keepdim=True, unbiased=True) + 1e-5)\n",
        "    + bnbias\n",
        ")\n",
        "print(\"max diff:\", (hpreact_fast - hpreact).abs().max())"
      ]
    },
    {
      "cell_type": "code",
      "execution_count": 525,
      "metadata": {},
      "outputs": [
        {
          "data": {
            "text/plain": [
              "tensor([[-1.1406e-04,  1.1709e-03,  1.2161e-03,  ..., -5.4482e-04,\n",
              "         -3.3200e-04,  2.7257e-04],\n",
              "        [-1.7861e-03, -8.9893e-04,  1.1535e-04,  ...,  4.4589e-04,\n",
              "         -1.6741e-03, -6.0052e-04],\n",
              "        [-2.3066e-04, -4.6360e-03,  1.2279e-03,  ..., -4.1145e-04,\n",
              "         -1.5076e-03, -1.3088e-03],\n",
              "        ...,\n",
              "        [-1.1114e-04, -7.3621e-04,  2.1469e-03,  ..., -4.2929e-05,\n",
              "         -7.0239e-04,  1.6045e-03],\n",
              "        [-6.8448e-04, -3.3384e-03, -3.7357e-04,  ..., -1.3544e-03,\n",
              "         -1.1381e-03, -5.1554e-04],\n",
              "        [ 2.5263e-03, -5.3392e-03,  3.6503e-04,  ..., -2.5262e-04,\n",
              "          1.5151e-03, -1.1235e-03]], grad_fn=<AddBackward0>)"
            ]
          },
          "execution_count": 525,
          "metadata": {},
          "output_type": "execute_result"
        }
      ],
      "source": [
        "dhprebn"
      ]
    },
    {
      "cell_type": "code",
      "execution_count": 528,
      "metadata": {},
      "outputs": [
        {
          "data": {
            "text/plain": [
              "tensor([[-1.1406e-04,  1.1709e-03,  1.2161e-03,  ..., -5.4482e-04,\n",
              "         -3.3200e-04,  2.7257e-04],\n",
              "        [-1.7861e-03, -8.9893e-04,  1.1535e-04,  ...,  4.4589e-04,\n",
              "         -1.6741e-03, -6.0052e-04],\n",
              "        [-2.3066e-04, -4.6360e-03,  1.2279e-03,  ..., -4.1145e-04,\n",
              "         -1.5076e-03, -1.3088e-03],\n",
              "        ...,\n",
              "        [-1.1114e-04, -7.3621e-04,  2.1469e-03,  ..., -4.2929e-05,\n",
              "         -7.0239e-04,  1.6045e-03],\n",
              "        [-6.8448e-04, -3.3384e-03, -3.7357e-04,  ..., -1.3544e-03,\n",
              "         -1.1381e-03, -5.1554e-04],\n",
              "        [ 2.5263e-03, -5.3392e-03,  3.6503e-04,  ..., -2.5262e-04,\n",
              "          1.5151e-03, -1.1235e-03]], grad_fn=<AddBackward0>)"
            ]
          },
          "execution_count": 528,
          "metadata": {},
          "output_type": "execute_result"
        }
      ],
      "source": [
        "new_dbndiff = (\n",
        "    ((dhpreact * bngain) * bndiff).sum(0, keepdim=True)\n",
        "    * (-0.5 * (bnvar + 1e-5) ** -1.5)\n",
        "    * torch.ones_like(bndiff2)\n",
        "    * (1 / (n - 1))\n",
        "    * 2\n",
        "    * bndiff\n",
        ") + ((dhpreact * bngain) * bnvar_inv)\n",
        "new_dbnmeani = (-new_dbndiff).sum(0, keepdim=True)\n",
        "new_dbndiff + (new_dbnmeani * torch.ones_like(hprebn) * (1 / n))"
      ]
    },
    {
      "cell_type": "code",
      "execution_count": 529,
      "metadata": {
        "id": "POdeZSKT8PPy"
      },
      "outputs": [
        {
          "name": "stdout",
          "output_type": "stream",
          "text": [
            "hprebn          | exact: False | approximate: True  | maxdiff: 9.313225746154785e-10\n"
          ]
        }
      ],
      "source": [
        "# backward pass\n",
        "\n",
        "# before we had:\n",
        "# dbnraw = bngain * dhpreact\n",
        "# dbndiff = bnvar_inv * dbnraw\n",
        "# dbnvar_inv = (bndiff * dbnraw).sum(0, keepdim=True)\n",
        "# dbnvar = (-0.5*(bnvar + 1e-5)**-1.5) * dbnvar_inv\n",
        "# dbndiff2 = (1.0/(n-1))*torch.ones_like(bndiff2) * dbnvar\n",
        "# dbndiff += (2*bndiff) * dbndiff2\n",
        "# dhprebn = dbndiff.clone()\n",
        "# dbnmeani = (-dbndiff).sum(0)\n",
        "# dhprebn += 1.0/n * (torch.ones_like(hprebn) * dbnmeani)\n",
        "\n",
        "# calculate dhprebn given dhpreact (i.e. backprop through the batchnorm)\n",
        "# (you'll also need to use some of the variables from the forward pass up above)\n",
        "\n",
        "# -----------------\n",
        "dhprebn = (\n",
        "    bngain\n",
        "    * bnvar_inv\n",
        "    / n\n",
        "    * (n * dhpreact - dhpreact.sum(0) - n / (n - 1) * bnraw * (dhpreact * bnraw).sum(0))\n",
        ")\n",
        "\n",
        "# -----------------\n",
        "\n",
        "cmp(\n",
        "    \"hprebn\", dhprebn, hprebn\n",
        ")  # I can only get approximate to be true, my maxdiff is 9e-10"
      ]
    },
    {
      "cell_type": "code",
      "execution_count": 537,
      "metadata": {
        "id": "wPy8DhqB8PPz"
      },
      "outputs": [
        {
          "name": "stdout",
          "output_type": "stream",
          "text": [
            "12297\n",
            "      0/ 200000: 3.7356\n",
            "  10000/ 200000: 1.8067\n",
            "  20000/ 200000: 1.8698\n",
            "  30000/ 200000: 2.4616\n",
            "  40000/ 200000: 2.4682\n",
            "  50000/ 200000: 1.9751\n",
            "  60000/ 200000: 2.5334\n",
            "  70000/ 200000: 2.1145\n",
            "  80000/ 200000: 1.7972\n",
            "  90000/ 200000: 2.2749\n",
            " 100000/ 200000: 2.3389\n",
            " 110000/ 200000: 2.1206\n",
            " 120000/ 200000: 1.9987\n",
            " 130000/ 200000: 1.8162\n",
            " 140000/ 200000: 2.2364\n",
            " 150000/ 200000: 2.2244\n",
            " 160000/ 200000: 1.8886\n",
            " 170000/ 200000: 2.1342\n",
            " 180000/ 200000: 2.4706\n",
            " 190000/ 200000: 1.7813\n"
          ]
        }
      ],
      "source": [
        "# Exercise 4: putting it all together!\n",
        "# Train the MLP neural net with your own backward pass\n",
        "\n",
        "# init\n",
        "n_embd = 10  # the dimensionality of the character embedding vectors\n",
        "n_hidden = 200  # the number of neurons in the hidden layer of the MLP\n",
        "\n",
        "g = torch.Generator().manual_seed(2147483647)  # for reproducibility\n",
        "C = torch.randn((vocab_size, n_embd), generator=g)\n",
        "# Layer 1\n",
        "W1 = (\n",
        "    torch.randn((n_embd * block_size, n_hidden), generator=g)\n",
        "    * (5 / 3)\n",
        "    / ((n_embd * block_size) ** 0.5)\n",
        ")\n",
        "b1 = torch.randn(n_hidden, generator=g) * 0.1\n",
        "# Layer 2\n",
        "W2 = torch.randn((n_hidden, vocab_size), generator=g) * 0.1\n",
        "b2 = torch.randn(vocab_size, generator=g) * 0.1\n",
        "# BatchNorm parameters\n",
        "bngain = torch.randn((1, n_hidden)) * 0.1 + 1.0\n",
        "bnbias = torch.randn((1, n_hidden)) * 0.1\n",
        "\n",
        "parameters = [C, W1, b1, W2, b2, bngain, bnbias]\n",
        "print(sum(p.nelement() for p in parameters))  # number of parameters in total\n",
        "for p in parameters:\n",
        "    p.requires_grad = True\n",
        "\n",
        "# same optimization as last time\n",
        "max_steps = 200000\n",
        "batch_size = 32\n",
        "n = batch_size  # convenience\n",
        "lossi = []\n",
        "\n",
        "# use this context manager for efficiency once your backward pass is written (TODO)\n",
        "# with torch.no_grad():\n",
        "\n",
        "# kick off optimization\n",
        "for i in range(max_steps):\n",
        "    # minibatch construct\n",
        "    ix = torch.randint(0, Xtr.shape[0], (batch_size,), generator=g)\n",
        "    Xb, Yb = Xtr[ix], Ytr[ix]  # batch X,Y\n",
        "\n",
        "    # forward pass\n",
        "    emb = C[Xb]  # embed the characters into vectors\n",
        "    embcat = emb.view(emb.shape[0], -1)  # concatenate the vectors\n",
        "    # Linear layer\n",
        "    hprebn = embcat @ W1 + b1  # hidden layer pre-activation\n",
        "    # BatchNorm layer\n",
        "    # -------------------------------------------------------------\n",
        "    bnmean = hprebn.mean(0, keepdim=True)\n",
        "    bnvar = hprebn.var(0, keepdim=True, unbiased=True)\n",
        "    bnvar_inv = (bnvar + 1e-5) ** -0.5\n",
        "    bnraw = (hprebn - bnmean) * bnvar_inv\n",
        "    hpreact = bngain * bnraw + bnbias\n",
        "    # -------------------------------------------------------------\n",
        "    # Non-linearity\n",
        "    h = torch.tanh(hpreact)  # hidden layer\n",
        "    logits = h @ W2 + b2  # output layer\n",
        "    loss = F.cross_entropy(logits, Yb)  # loss function\n",
        "\n",
        "    # backward pass\n",
        "    for p in parameters:\n",
        "        p.grad = None\n",
        "    # loss.backward()  # use this for correctness comparisons, delete it later!\n",
        "\n",
        "    # manual backprop! #swole_doge_meme\n",
        "    # -----------------\n",
        "    # YOUR CODE HERE :)\n",
        "    dlogits = F.softmax(logits, 1)\n",
        "    dlogits[range(n), Yb] -= 1\n",
        "    dlogits /= n\n",
        "    # 2nd layer backprop\n",
        "    dh = dlogits @ W2.T\n",
        "    dW2 = h.T @ dlogits\n",
        "    db2 = dlogits.sum(0)\n",
        "    # tanh\n",
        "    dhpreact = (1.0 - h**2) * dh\n",
        "    # batchnorm backprop\n",
        "    dbngain = (bnraw * dhpreact).sum(0, keepdim=True)\n",
        "    dbnbias = dhpreact.sum(0, keepdim=True)\n",
        "    dhprebn = (\n",
        "        bngain\n",
        "        * bnvar_inv\n",
        "        / n\n",
        "        * (\n",
        "            n * dhpreact\n",
        "            - dhpreact.sum(0)\n",
        "            - n / (n - 1) * bnraw * (dhpreact * bnraw).sum(0)\n",
        "        )\n",
        "    )\n",
        "    # 1st layer\n",
        "    dembcat = dhprebn @ W1.T\n",
        "    dW1 = embcat.T @ dhprebn\n",
        "    db1 = dhprebn.sum(0)\n",
        "    # embedding\n",
        "    demb = dembcat.view(emb.shape)\n",
        "    dC = torch.zeros_like(C)\n",
        "    for k in range(Xb.shape[0]):\n",
        "        for j in range(Xb.shape[1]):\n",
        "            ix = Xb[k, j]\n",
        "            dC[ix] += demb[k, j]\n",
        "    grads = [dC, dW1, db1, dW2, db2, dbngain, dbnbias]\n",
        "    # -----------------\n",
        "\n",
        "    # update\n",
        "    lr = 0.1 if i < 100000 else 0.01  # step learning rate decay\n",
        "    for p, grad in zip(parameters, grads):\n",
        "        # p.data += (\n",
        "        #     -lr * p.grad\n",
        "        # )  # old way of cheems doge (using PyTorch grad from .backward())\n",
        "        p.data += -lr * grad  # new way of swole doge TODO: enable\n",
        "\n",
        "    # track stats\n",
        "    if i % 10000 == 0:  # print every once in a while\n",
        "        print(f\"{i:7d}/{max_steps:7d}: {loss.item():.4f}\")\n",
        "    lossi.append(loss.log10().item())\n",
        "\n",
        "    # if i >= 100:  # TODO: delete early breaking when you're ready to train the full net\n",
        "    #     break"
      ]
    },
    {
      "cell_type": "code",
      "execution_count": 544,
      "metadata": {
        "id": "ZEpI0hMW8PPz"
      },
      "outputs": [],
      "source": [
        "# useful for checking your gradients\n",
        "# for p, g in zip(parameters, grads):\n",
        "#     cmp(str(tuple(p.shape)), g, p)"
      ]
    },
    {
      "cell_type": "code",
      "execution_count": 540,
      "metadata": {
        "id": "KImLWNoh8PP0"
      },
      "outputs": [],
      "source": [
        "# calibrate the batch norm at the end of training\n",
        "\n",
        "with torch.no_grad():\n",
        "    # pass the training set through\n",
        "    emb = C[Xtr]\n",
        "    embcat = emb.view(emb.shape[0], -1)\n",
        "    hpreact = embcat @ W1 + b1\n",
        "    # measure the mean/std over the entire training set\n",
        "    bnmean = hpreact.mean(0, keepdim=True)\n",
        "    bnvar = hpreact.var(0, keepdim=True, unbiased=True)"
      ]
    },
    {
      "cell_type": "code",
      "execution_count": 541,
      "metadata": {
        "id": "6aFnP_Zc8PP0"
      },
      "outputs": [
        {
          "name": "stdout",
          "output_type": "stream",
          "text": [
            "train 2.067683219909668\n",
            "val 2.12823486328125\n"
          ]
        }
      ],
      "source": [
        "# evaluate train and val loss\n",
        "\n",
        "\n",
        "@torch.no_grad()  # this decorator disables gradient tracking\n",
        "def split_loss(split):\n",
        "    x, y = {\n",
        "        \"train\": (Xtr, Ytr),\n",
        "        \"val\": (Xdev, Ydev),\n",
        "        \"test\": (Xte, Yte),\n",
        "    }[split]\n",
        "    emb = C[x]  # (N, block_size, n_embd)\n",
        "    embcat = emb.view(emb.shape[0], -1)  # concat into (N, block_size * n_embd)\n",
        "    hpreact = embcat @ W1 + b1\n",
        "    hpreact = bngain * (hpreact - bnmean) * (bnvar + 1e-5) ** -0.5 + bnbias\n",
        "    h = torch.tanh(hpreact)  # (N, n_hidden)\n",
        "    logits = h @ W2 + b2  # (N, vocab_size)\n",
        "    loss = F.cross_entropy(logits, y)\n",
        "    print(split, loss.item())\n",
        "\n",
        "\n",
        "split_loss(\"train\")\n",
        "split_loss(\"val\")"
      ]
    },
    {
      "cell_type": "code",
      "execution_count": null,
      "metadata": {
        "id": "esWqmhyj8PP1"
      },
      "outputs": [],
      "source": [
        "# I achieved:\n",
        "# train 2.0718822479248047\n",
        "# val 2.1162495613098145"
      ]
    },
    {
      "cell_type": "code",
      "execution_count": 542,
      "metadata": {
        "id": "xHeQNv3s8PP1"
      },
      "outputs": [
        {
          "name": "stdout",
          "output_type": "stream",
          "text": [
            "carlah.\n",
            "amille.\n",
            "khy.\n",
            "milia.\n",
            "aty.\n",
            "skanden.\n",
            "jazonte.\n",
            "dellah.\n",
            "jareei.\n",
            "nellara.\n",
            "chaiivon.\n",
            "leigh.\n",
            "ham.\n",
            "joce.\n",
            "quintesson.\n",
            "marianni.\n",
            "wavero.\n",
            "dearisi.\n",
            "jaxen.\n",
            "durat.\n"
          ]
        }
      ],
      "source": [
        "# sample from the model\n",
        "g = torch.Generator().manual_seed(2147483647 + 10)\n",
        "\n",
        "for _ in range(20):\n",
        "    out = []\n",
        "    context = [0] * block_size  # initialize with all ...\n",
        "    while True:\n",
        "        # forward pass\n",
        "        emb = C[torch.tensor([context])]  # (1,block_size,d)\n",
        "        embcat = emb.view(emb.shape[0], -1)  # concat into (N, block_size * n_embd)\n",
        "        hpreact = embcat @ W1 + b1\n",
        "        hpreact = bngain * (hpreact - bnmean) * (bnvar + 1e-5) ** -0.5 + bnbias\n",
        "        h = torch.tanh(hpreact)  # (N, n_hidden)\n",
        "        logits = h @ W2 + b2  # (N, vocab_size)\n",
        "        # sample\n",
        "        probs = F.softmax(logits, dim=1)\n",
        "        ix = torch.multinomial(probs, num_samples=1, generator=g).item()\n",
        "        context = context[1:] + [ix]\n",
        "        out.append(ix)\n",
        "        if ix == 0:\n",
        "            break\n",
        "\n",
        "    print(\"\".join(itos[i] for i in out))"
      ]
    }
  ],
  "metadata": {
    "colab": {
      "provenance": []
    },
    "kernelspec": {
      "display_name": "Python 3",
      "language": "python",
      "name": "python3"
    },
    "language_info": {
      "codemirror_mode": {
        "name": "ipython",
        "version": 3
      },
      "file_extension": ".py",
      "mimetype": "text/x-python",
      "name": "python",
      "nbconvert_exporter": "python",
      "pygments_lexer": "ipython3",
      "version": "3.11.7"
    }
  },
  "nbformat": 4,
  "nbformat_minor": 0
}
